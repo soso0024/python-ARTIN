{
 "cells": [
  {
   "cell_type": "markdown",
   "metadata": {},
   "source": [
    "# CLUSTERING PRACTICAL\n",
    "\n",
    "## ARTIN\n",
    "\n",
    "## Mathieu Lagrange\n",
    "\n",
    "reports are to be sent to [mathieu dot lagrange at ec-nantes dot fr] no later than a week after the lab"
   ]
  },
  {
   "cell_type": "markdown",
   "metadata": {},
   "source": [
    "So Onishi<br>\n",
    "Send to: modan.tailleur@ls2n.fr"
   ]
  },
  {
   "cell_type": "markdown",
   "metadata": {},
   "source": [
    "## Import tools\n",
    "\n",
    "please import others if needed"
   ]
  },
  {
   "cell_type": "code",
   "execution_count": 17,
   "metadata": {},
   "outputs": [],
   "source": [
    "import numpy as np\n",
    "import matplotlib.pyplot as plt\n",
    "import sklearn as sk"
   ]
  },
  {
   "cell_type": "markdown",
   "metadata": {},
   "source": [
    "## Data: generate a synthetic dataset\n",
    "\n",
    "Generate a set of 100 points in a 2 dimensional space split into 4 non overlapping\n",
    "clusters.\n",
    "\n",
    "100点のデータを2次元空間に生成し、それを4つの非重複クラスタに分ける問題"
   ]
  },
  {
   "cell_type": "code",
   "execution_count": 18,
   "metadata": {},
   "outputs": [],
   "source": [
    "# 適当なデータセットを作成\n",
    "# np.random.seed(42)\n",
    "\n",
    "points1 = np.random.randn(25, 2)\n",
    "points2 = np.random.randn(25, 2) + np.array([5, 5])\n",
    "points3 = np.random.randn(25, 2) + np.array([15, 15])\n",
    "points4 = np.random.randn(25, 2) + np.array([30, 30])\n",
    "\n",
    "# print(\"points1:\\n\" + str(points1))"
   ]
  },
  {
   "cell_type": "code",
   "execution_count": 19,
   "metadata": {},
   "outputs": [
    {
     "name": "stdout",
     "output_type": "stream",
     "text": [
      "[0. 0. 0. 0. 0. 0. 0. 0. 0. 0. 0. 0. 0. 0. 0. 0. 0. 0. 0. 0. 0. 0. 0. 0.\n",
      " 0. 1. 1. 1. 1. 1. 1. 1. 1. 1. 1. 1. 1. 1. 1. 1. 1. 1. 1. 1. 1. 1. 1. 1.\n",
      " 1. 1. 2. 2. 2. 2. 2. 2. 2. 2. 2. 2. 2. 2. 2. 2. 2. 2. 2. 2. 2. 2. 2. 2.\n",
      " 2. 2. 2. 3. 3. 3. 3. 3. 3. 3. 3. 3. 3. 3. 3. 3. 3. 3. 3. 3. 3. 3. 3. 3.\n",
      " 3. 3. 3. 3.]\n"
     ]
    }
   ],
   "source": [
    "# 各クラスタにラベルを割り当てる\n",
    "labels1 = np.zeros(25)  # points1に0のラベルを割り当てる\n",
    "labels2 = np.ones(25)   # points2に1のラベルを割り当てる\n",
    "labels3 = np.full(25, 2)  # points3に2のラベルを割り当てる（np.fullで全要素を2にする）\n",
    "labels4 = np.full(25, 3)  # points4に3のラベルを割り当てる（np.fullで全要素を3にする）\n",
    "\n",
    "# ラベル配列を結合する\n",
    "truth_labels = np.r_[labels1, labels2, labels3, labels4]\n",
    "\n",
    "print(truth_labels)"
   ]
  },
  {
   "cell_type": "code",
   "execution_count": 20,
   "metadata": {},
   "outputs": [
    {
     "name": "stdout",
     "output_type": "stream",
     "text": [
      "[[ 3.16341237e-01 -1.50155125e+00]\n",
      " [ 2.04437262e-01 -9.00204479e-01]\n",
      " [-7.82337948e-01 -1.46523676e+00]\n",
      " [ 1.51872066e+00 -2.91984011e-01]\n",
      " [ 5.74433905e-01 -6.63121576e-01]\n",
      " [-1.97564917e-01  7.55332105e-02]\n",
      " [-5.78362245e-01  1.38553092e-01]\n",
      " [ 7.49927406e-01  6.45777944e-01]\n",
      " [ 1.03640544e+00 -5.38550006e-01]\n",
      " [-7.86184031e-01  2.74264062e+00]\n",
      " [-6.81892565e-01 -8.29505990e-01]\n",
      " [-1.58900009e+00 -9.96729349e-01]\n",
      " [ 3.69151623e-01 -4.17403853e-02]\n",
      " [ 2.45827680e+00  1.83356428e+00]\n",
      " [ 1.29714051e+00  1.67924399e+00]\n",
      " [ 9.64824090e-01 -1.01757745e+00]\n",
      " [ 1.51663426e-02  8.23361566e-02]\n",
      " [-9.10936659e-01  1.16942304e+00]\n",
      " [ 5.02559123e-01  1.67317750e-01]\n",
      " [-4.24102059e-01  5.56421944e-01]\n",
      " [ 4.91433520e-01 -1.24209939e-01]\n",
      " [-2.09168177e+00 -2.76587110e-01]\n",
      " [ 7.64344070e-01 -5.10320869e-02]\n",
      " [-1.40928662e-01  3.50292805e-01]\n",
      " [ 9.58861290e-01 -3.58238530e-01]\n",
      " [ 3.71579833e+00  4.73271878e+00]\n",
      " [ 4.96085868e+00  5.81727523e+00]\n",
      " [ 5.30239463e+00  5.04458599e+00]\n",
      " [ 5.17049809e+00  4.74013930e+00]\n",
      " [ 2.48803200e+00  4.87908867e+00]\n",
      " [ 5.42055754e+00  4.81246447e+00]\n",
      " [ 5.93732212e+00  3.79694713e+00]\n",
      " [ 4.11628322e+00  4.13391158e+00]\n",
      " [ 5.73935786e+00  4.48647073e+00]\n",
      " [ 4.97927129e+00  5.22295128e+00]\n",
      " [ 4.43127364e+00  4.52248119e+00]\n",
      " [ 4.17591776e+00  6.60283695e+00]\n",
      " [ 4.34064993e+00  4.11575196e+00]\n",
      " [ 4.31053892e+00  3.79887341e+00]\n",
      " [ 4.83131467e+00  5.06866209e+00]\n",
      " [ 5.73210428e+00  5.13691402e+00]\n",
      " [ 6.07170291e+00  6.39336221e+00]\n",
      " [ 5.21520546e+00  5.66163539e+00]\n",
      " [ 6.55054879e+00  3.95263019e+00]\n",
      " [ 4.23426028e+00  5.84075444e+00]\n",
      " [ 6.40898525e+00  5.80900435e+00]\n",
      " [ 4.44824485e+00  3.62291855e+00]\n",
      " [ 6.57871598e+00  5.89913258e+00]\n",
      " [ 4.70583608e+00  4.65043093e+00]\n",
      " [ 5.37931352e+00  6.53957254e+00]\n",
      " [ 1.55073866e+01  1.41788265e+01]\n",
      " [ 1.39967639e+01  1.38849245e+01]\n",
      " [ 1.51020177e+01  1.60818071e+01]\n",
      " [ 1.58104235e+01  1.54497449e+01]\n",
      " [ 1.68209268e+01  1.77825989e+01]\n",
      " [ 1.55727049e+01  1.35874658e+01]\n",
      " [ 1.50861698e+01  1.53775929e+01]\n",
      " [ 1.48765701e+01  1.45474354e+01]\n",
      " [ 1.67182758e+01  1.44422289e+01]\n",
      " [ 1.42840385e+01  1.39192410e+01]\n",
      " [ 1.38327037e+01  1.50923560e+01]\n",
      " [ 1.37944723e+01  1.56767111e+01]\n",
      " [ 1.67541293e+01  1.59357718e+01]\n",
      " [ 1.48649487e+01  1.46232214e+01]\n",
      " [ 1.50550050e+01  1.69034655e+01]\n",
      " [ 1.52996240e+01  1.55180874e+01]\n",
      " [ 1.56287367e+01  1.26408494e+01]\n",
      " [ 1.39792163e+01  1.46176881e+01]\n",
      " [ 1.54806356e+01  1.51789297e+01]\n",
      " [ 1.46193248e+01  1.45605968e+01]\n",
      " [ 1.62841317e+01  1.34717132e+01]\n",
      " [ 1.60861103e+01  1.49584959e+01]\n",
      " [ 1.52845035e+01  1.66242282e+01]\n",
      " [ 1.67464928e+01  1.55231555e+01]\n",
      " [ 1.51814702e+01  1.51233862e+01]\n",
      " [ 3.09624270e+01  2.84080101e+01]\n",
      " [ 2.96489338e+01  3.02615537e+01]\n",
      " [ 3.04918732e+01  3.07351617e+01]\n",
      " [ 2.87052567e+01  3.17245337e+01]\n",
      " [ 3.02124639e+01  3.16535190e+01]\n",
      " [ 3.02306316e+01  3.13110945e+01]\n",
      " [ 2.95404713e+01  2.99148605e+01]\n",
      " [ 3.00005828e+01  3.13632274e+01]\n",
      " [ 2.91985653e+01  2.86912364e+01]\n",
      " [ 2.96669255e+01  2.97275740e+01]\n",
      " [ 3.14296945e+01  3.18316823e+01]\n",
      " [ 3.22177798e+01  2.82714037e+01]\n",
      " [ 2.81580170e+01  3.00400427e+01]\n",
      " [ 3.05035715e+01  2.88220165e+01]\n",
      " [ 2.95347310e+01  3.08607343e+01]\n",
      " [ 3.14531635e+01  2.95245187e+01]\n",
      " [ 2.80655392e+01  2.93545207e+01]\n",
      " [ 3.09081740e+01  3.07348130e+01]\n",
      " [ 3.11563213e+01  2.95828828e+01]\n",
      " [ 2.84260014e+01  2.90936051e+01]\n",
      " [ 3.04353192e+01  2.93639587e+01]\n",
      " [ 3.01289392e+01  3.08066768e+01]\n",
      " [ 2.96089407e+01  2.90449800e+01]\n",
      " [ 3.02684506e+01  2.97984906e+01]\n",
      " [ 3.05932127e+01  3.00548603e+01]]\n"
     ]
    }
   ],
   "source": [
    "points = np.r_[points1, points2, points3, points4]\n",
    "print(points);"
   ]
  },
  {
   "cell_type": "code",
   "execution_count": 21,
   "metadata": {},
   "outputs": [
    {
     "data": {
      "text/plain": [
       "Text(0, 0.5, 'Feature 2')"
      ]
     },
     "execution_count": 21,
     "metadata": {},
     "output_type": "execute_result"
    },
    {
     "data": {
      "image/png": "[encoded data removed]",
      "text/plain": [
       "<Figure size 640x480 with 1 Axes>"
      ]
     },
     "metadata": {},
     "output_type": "display_data"
    }
   ],
   "source": [
    "plt.scatter(points[:, 0], points[:, 1], c=truth_labels)\n",
    "plt.xlabel('Feature 1')\n",
    "plt.ylabel('Feature 2')"
   ]
  },
  {
   "cell_type": "markdown",
   "metadata": {},
   "source": [
    "Display the set with one color per cluster using the scatter function from matplotlib.pyplot"
   ]
  },
  {
   "cell_type": "markdown",
   "metadata": {},
   "source": [
    "## Baseline: the random clustering algorithm\n",
    "\n",
    "Cluster this dataset into k clusters by assigning a random integer value between 0 and k-1 to each point."
   ]
  },
  {
   "cell_type": "code",
   "execution_count": 22,
   "metadata": {},
   "outputs": [],
   "source": [
    "# ラベル配列を結合する\n",
    "# pred_labels = np.random.randint(0, 4, points.shape[0])\n",
    "\n",
    "# print(pred_labels)"
   ]
  },
  {
   "cell_type": "code",
   "execution_count": 23,
   "metadata": {},
   "outputs": [],
   "source": [
    "# ランダムな予測ラベルを生成する関数\n",
    "def generate_random_labels(num_points, num_classes):\n",
    "    \"\"\"\n",
    "    指定された数のデータポイントに対して、0からnum_classes-1までのランダムなラベルを生成する。\n",
    "\n",
    "    Parameters:\n",
    "    num_points (int): ラベルを生成するデータポイントの数。\n",
    "    num_classes (int): 生成するラベルのクラス数。\n",
    "\n",
    "    Returns:\n",
    "    numpy.array: 生成されたランダムラベルの配列。\n",
    "    \"\"\"\n",
    "    return np.random.randint(0, num_points, num_classes)"
   ]
  },
  {
   "cell_type": "code",
   "execution_count": 24,
   "metadata": {},
   "outputs": [
    {
     "name": "stdout",
     "output_type": "stream",
     "text": [
      "[1 2 3 3 3 1 1 1 0 2 2 0 0 2 3 0 3 0 0 1 3 3 2 0 1 2 1 1 0 2 3 2 1 1 1 3 1\n",
      " 1 0 0 3 0 0 2 3 1 3 2 3 1 3 0 0 1 2 0 2 3 0 3 2 0 3 2 2 2 2 2 2 2 1 0 3 2\n",
      " 2 3 0 2 0 2 2 1 3 0 2 2 2 2 3 2 0 1 3 1 3 3 0 3 3 0]\n"
     ]
    }
   ],
   "source": [
    "pred_labels = generate_random_labels(4, len(points))\n",
    "print(pred_labels)"
   ]
  },
  {
   "cell_type": "code",
   "execution_count": 25,
   "metadata": {},
   "outputs": [
    {
     "data": {
      "text/plain": [
       "Text(0, 0.5, 'Feature 2')"
      ]
     },
     "execution_count": 25,
     "metadata": {},
     "output_type": "execute_result"
    },
    {
     "data": {
      "image/png": "[encoded data removed]",
      "text/plain": [
       "<Figure size 640x480 with 1 Axes>"
      ]
     },
     "metadata": {},
     "output_type": "display_data"
    }
   ],
   "source": [
    "plt.scatter(points[:, 0], points[:, 1], c=pred_labels)\n",
    "plt.xlabel('Feature 1')\n",
    "plt.ylabel('Feature 2')"
   ]
  },
  {
   "cell_type": "markdown",
   "metadata": {},
   "source": [
    "## Metric: the rand index\n",
    "\n",
    "Implement the rand index criterion (see https://en.wikipedia.org/wiki/Rand_index for reference)"
   ]
  },
  {
   "cell_type": "code",
   "execution_count": 26,
   "metadata": {},
   "outputs": [],
   "source": [
    "# ランダムインデックスを計算する関数を定義する\n",
    "def calculate_rand_index(truth_labels, pred_labels):\n",
    "    n = len(truth_labels)\n",
    "    tp = 0  # true positive\n",
    "    tn = 0  # true negative\n",
    "\n",
    "    for i in range(n):\n",
    "        for j in range(i+1, n):\n",
    "            if truth_labels[i] == truth_labels[j] and pred_labels[i] == pred_labels[j]:\n",
    "                tp += 1\n",
    "            elif truth_labels[i] != truth_labels[j] and pred_labels[i] != pred_labels[j]:\n",
    "                tn += 1\n",
    "\n",
    "    # ランダムインデックスの計算\n",
    "    rand_index = (tp + tn) / (n * (n - 1) / 2)\n",
    "    return rand_index"
   ]
  },
  {
   "cell_type": "code",
   "execution_count": 27,
   "metadata": {},
   "outputs": [
    {
     "name": "stdout",
     "output_type": "stream",
     "text": [
      "Calculated Rand Index: 0.6327272727272727\n"
     ]
    }
   ],
   "source": [
    "rand_index = calculate_rand_index(truth_labels, pred_labels)  # ランダムインデックスを計算\n",
    "print(\"Calculated Rand Index:\", rand_index)"
   ]
  },
  {
   "cell_type": "markdown",
   "metadata": {},
   "source": [
    "Compute the rand index between the reference clustering and 100 runs of the baseline algorithm.\n",
    "\n",
    "基準クラスタリングとベースラインアルゴリズムの100回の実行の間のrandインデックスを計算する。"
   ]
  },
  {
   "cell_type": "code",
   "execution_count": 28,
   "metadata": {},
   "outputs": [],
   "source": [
    "rand_indices = []\n",
    "n = len(truth_labels)\n",
    "\n",
    "for _ in range(n):\n",
    "    pred_labels = generate_random_labels(4, len(points))\n",
    "    index = calculate_rand_index(truth_labels, pred_labels)\n",
    "    rand_indices.append(index)"
   ]
  },
  {
   "cell_type": "code",
   "execution_count": 29,
   "metadata": {},
   "outputs": [],
   "source": [
    "mean_rand_index = np.mean(rand_indices)\n",
    "std_rand_index = np.std(rand_indices)"
   ]
  },
  {
   "cell_type": "markdown",
   "metadata": {},
   "source": [
    "Display results and compute the mean and standard deviation.\n",
    "\n",
    "結果を表示し、平均と標準偏差を計算する。"
   ]
  },
  {
   "cell_type": "code",
   "execution_count": 30,
   "metadata": {},
   "outputs": [
    {
     "name": "stdout",
     "output_type": "stream",
     "text": [
      "0.6287737373737373\n",
      "0.006092056779153362\n"
     ]
    }
   ],
   "source": [
    "print(mean_rand_index)\n",
    "print(std_rand_index)"
   ]
  },
  {
   "cell_type": "markdown",
   "metadata": {},
   "source": [
    "## Hierarchical Clustering\n",
    "\n",
    "Compute the euclidean distance matrix using the pdist function from scipy.spatial.distance\n",
    "\n",
    "scipy.spatial.distanceのpdist関数を使用してユークリッド距離行列を計算します。"
   ]
  },
  {
   "cell_type": "code",
   "execution_count": 31,
   "metadata": {},
   "outputs": [],
   "source": [
    "from scipy.spatial.distance import pdist, squareform\n",
    "\n",
    "# ユークリッド距離を計算\n",
    "distance = pdist(points)\n",
    "distance_matrix = squareform(pdist(points))"
   ]
  },
  {
   "cell_type": "markdown",
   "metadata": {},
   "source": [
    "Display and interpret its shape"
   ]
  },
  {
   "cell_type": "code",
   "execution_count": 32,
   "metadata": {},
   "outputs": [
    {
     "name": "stdout",
     "output_type": "stream",
     "text": [
      "[0.6116702  1.09927917 1.70551141 ... 1.00136486 1.4101949  0.41375819]\n",
      "\n",
      "[[ 0.          0.6116702   1.09927917 ... 42.32194413 43.3222977\n",
      "  43.73209414]\n",
      " [ 0.6116702   0.          1.13709577 ... 41.96830823 42.96806698\n",
      "  43.37849364]\n",
      " [ 1.09927917  1.13709577  0.         ... 43.06394251 44.06327406\n",
      "  44.47405647]\n",
      " ...\n",
      " [42.32194413 41.96830823 43.06394251 ...  0.          1.00136486\n",
      "   1.4101949 ]\n",
      " [43.3222977  42.96806698 44.06327406 ...  1.00136486  0.\n",
      "   0.41375819]\n",
      " [43.73209414 43.37849364 44.47405647 ...  1.4101949   0.41375819\n",
      "   0.        ]]\n"
     ]
    }
   ],
   "source": [
    "# 距離行列を表示\n",
    "print(distance)\n",
    "print()\n",
    "print(distance_matrix)"
   ]
  },
  {
   "cell_type": "markdown",
   "metadata": {},
   "source": [
    "answer here\n",
    "\n",
    "The one-dimensional array representing the Euclidean distances between data points in a dataset has a length of `{n*(n-1)}/2`, where `n` is the number of data points in the dataset. This length corresponds to the number of unique pairwise combinations of points in the dataset. The two-dimensional distance matrix expands these distances into an `n * n` matrix, with the rows and columns representing the data points, and zeroes on the diagonal representing the distance of each point to itself."
   ]
  },
  {
   "cell_type": "markdown",
   "metadata": {},
   "source": [
    "Compute the single link hierarchical clustering using the linkage function from scipy.cluster.hierarchy.\n",
    "\n",
    "scipy.cluster.hierarchyのリンケージ関数を用いてシングルリンクの階層クラスタリングを計算します。"
   ]
  },
  {
   "cell_type": "code",
   "execution_count": 33,
   "metadata": {},
   "outputs": [],
   "source": [
    "from scipy.cluster.hierarchy import linkage, dendrogram\n",
    "\n",
    "# 距離行列を用いて階層クラスタリングを行う\n",
    "linkage_matrix = linkage(distance, method='single')"
   ]
  },
  {
   "cell_type": "markdown",
   "metadata": {},
   "source": [
    "Display the corresponding dendrogram using the dendrogram function from scipy.cluster.hierarchy."
   ]
  },
  {
   "cell_type": "code",
   "execution_count": 34,
   "metadata": {},
   "outputs": [
    {
     "data": {
      "text/plain": [
       "{'icoord': [[45.0, 45.0, 55.0, 55.0],\n",
       "  [35.0, 35.0, 50.0, 50.0],\n",
       "  [65.0, 65.0, 75.0, 75.0],\n",
       "  [85.0, 85.0, 95.0, 95.0],\n",
       "  [135.0, 135.0, 145.0, 145.0],\n",
       "  [125.0, 125.0, 140.0, 140.0],\n",
       "  [165.0, 165.0, 175.0, 175.0],\n",
       "  [155.0, 155.0, 170.0, 170.0],\n",
       "  [132.5, 132.5, 162.5, 162.5],\n",
       "  [115.0, 115.0, 147.5, 147.5],\n",
       "  [195.0, 195.0, 205.0, 205.0],\n",
       "  [185.0, 185.0, 200.0, 200.0],\n",
       "  [235.0, 235.0, 245.0, 245.0],\n",
       "  [225.0, 225.0, 240.0, 240.0],\n",
       "  [215.0, 215.0, 232.5, 232.5],\n",
       "  [192.5, 192.5, 223.75, 223.75],\n",
       "  [131.25, 131.25, 208.125, 208.125],\n",
       "  [105.0, 105.0, 169.6875, 169.6875],\n",
       "  [90.0, 90.0, 137.34375, 137.34375],\n",
       "  [70.0, 70.0, 113.671875, 113.671875],\n",
       "  [42.5, 42.5, 91.8359375, 91.8359375],\n",
       "  [25.0, 25.0, 67.16796875, 67.16796875],\n",
       "  [15.0, 15.0, 46.083984375, 46.083984375],\n",
       "  [5.0, 5.0, 30.5419921875, 30.5419921875],\n",
       "  [275.0, 275.0, 285.0, 285.0],\n",
       "  [315.0, 315.0, 325.0, 325.0],\n",
       "  [305.0, 305.0, 320.0, 320.0],\n",
       "  [335.0, 335.0, 345.0, 345.0],\n",
       "  [365.0, 365.0, 375.0, 375.0],\n",
       "  [355.0, 355.0, 370.0, 370.0],\n",
       "  [395.0, 395.0, 405.0, 405.0],\n",
       "  [385.0, 385.0, 400.0, 400.0],\n",
       "  [425.0, 425.0, 435.0, 435.0],\n",
       "  [415.0, 415.0, 430.0, 430.0],\n",
       "  [485.0, 485.0, 495.0, 495.0],\n",
       "  [475.0, 475.0, 490.0, 490.0],\n",
       "  [465.0, 465.0, 482.5, 482.5],\n",
       "  [455.0, 455.0, 473.75, 473.75],\n",
       "  [445.0, 445.0, 464.375, 464.375],\n",
       "  [422.5, 422.5, 454.6875, 454.6875],\n",
       "  [392.5, 392.5, 438.59375, 438.59375],\n",
       "  [362.5, 362.5, 415.546875, 415.546875],\n",
       "  [340.0, 340.0, 389.0234375, 389.0234375],\n",
       "  [312.5, 312.5, 364.51171875, 364.51171875],\n",
       "  [295.0, 295.0, 338.505859375, 338.505859375],\n",
       "  [280.0, 280.0, 316.7529296875, 316.7529296875],\n",
       "  [265.0, 265.0, 298.37646484375, 298.37646484375],\n",
       "  [255.0, 255.0, 281.688232421875, 281.688232421875],\n",
       "  [535.0, 535.0, 545.0, 545.0],\n",
       "  [525.0, 525.0, 540.0, 540.0],\n",
       "  [515.0, 515.0, 532.5, 532.5],\n",
       "  [585.0, 585.0, 595.0, 595.0],\n",
       "  [625.0, 625.0, 635.0, 635.0],\n",
       "  [655.0, 655.0, 665.0, 665.0],\n",
       "  [645.0, 645.0, 660.0, 660.0],\n",
       "  [630.0, 630.0, 652.5, 652.5],\n",
       "  [675.0, 675.0, 685.0, 685.0],\n",
       "  [695.0, 695.0, 705.0, 705.0],\n",
       "  [715.0, 715.0, 725.0, 725.0],\n",
       "  [700.0, 700.0, 720.0, 720.0],\n",
       "  [680.0, 680.0, 710.0, 710.0],\n",
       "  [641.25, 641.25, 695.0, 695.0],\n",
       "  [615.0, 615.0, 668.125, 668.125],\n",
       "  [605.0, 605.0, 641.5625, 641.5625],\n",
       "  [590.0, 590.0, 623.28125, 623.28125],\n",
       "  [735.0, 735.0, 745.0, 745.0],\n",
       "  [606.640625, 606.640625, 740.0, 740.0],\n",
       "  [575.0, 575.0, 673.3203125, 673.3203125],\n",
       "  [565.0, 565.0, 624.16015625, 624.16015625],\n",
       "  [555.0, 555.0, 594.580078125, 594.580078125],\n",
       "  [523.75, 523.75, 574.7900390625, 574.7900390625],\n",
       "  [505.0, 505.0, 549.27001953125, 549.27001953125],\n",
       "  [785.0, 785.0, 795.0, 795.0],\n",
       "  [805.0, 805.0, 815.0, 815.0],\n",
       "  [905.0, 905.0, 915.0, 915.0],\n",
       "  [895.0, 895.0, 910.0, 910.0],\n",
       "  [885.0, 885.0, 902.5, 902.5],\n",
       "  [925.0, 925.0, 935.0, 935.0],\n",
       "  [965.0, 965.0, 975.0, 975.0],\n",
       "  [955.0, 955.0, 970.0, 970.0],\n",
       "  [945.0, 945.0, 962.5, 962.5],\n",
       "  [930.0, 930.0, 953.75, 953.75],\n",
       "  [893.75, 893.75, 941.875, 941.875],\n",
       "  [875.0, 875.0, 917.8125, 917.8125],\n",
       "  [985.0, 985.0, 995.0, 995.0],\n",
       "  [896.40625, 896.40625, 990.0, 990.0],\n",
       "  [865.0, 865.0, 943.203125, 943.203125],\n",
       "  [855.0, 855.0, 904.1015625, 904.1015625],\n",
       "  [845.0, 845.0, 879.55078125, 879.55078125],\n",
       "  [835.0, 835.0, 862.275390625, 862.275390625],\n",
       "  [825.0, 825.0, 848.6376953125, 848.6376953125],\n",
       "  [810.0, 810.0, 836.81884765625, 836.81884765625],\n",
       "  [790.0, 790.0, 823.409423828125, 823.409423828125],\n",
       "  [775.0, 775.0, 806.7047119140625, 806.7047119140625],\n",
       "  [765.0, 765.0, 790.8523559570312, 790.8523559570312],\n",
       "  [755.0, 755.0, 777.9261779785156, 777.9261779785156],\n",
       "  [527.135009765625, 527.135009765625, 766.4630889892578, 766.4630889892578],\n",
       "  [268.3441162109375, 268.3441162109375, 646.7990493774414, 646.7990493774414],\n",
       "  [17.77099609375, 17.77099609375, 457.57158279418945, 457.57158279418945]],\n",
       " 'dcoord': [[0.0, 0.44498308369002076, 0.44498308369002076, 0.0],\n",
       "  [0.0, 0.6917316410887994, 0.6917316410887994, 0.44498308369002076],\n",
       "  [0.0, 0.3025254744825114, 0.3025254744825114, 0.0],\n",
       "  [0.0, 0.5417956681699089, 0.5417956681699089, 0.0],\n",
       "  [0.0, 0.2358819034790163, 0.2358819034790163, 0.0],\n",
       "  [0.0, 0.34290608100885994, 0.34290608100885994, 0.2358819034790163],\n",
       "  [0.0, 0.3699128641082065, 0.3699128641082065, 0.0],\n",
       "  [0.0, 0.4163009221553961, 0.4163009221553961, 0.3699128641082065],\n",
       "  [0.34290608100885994,\n",
       "   0.5145664361777464,\n",
       "   0.5145664361777464,\n",
       "   0.4163009221553961],\n",
       "  [0.0, 0.5966620601137635, 0.5966620601137635, 0.5145664361777464],\n",
       "  [0.0, 0.22597987471926753, 0.22597987471926753, 0.0],\n",
       "  [0.0, 0.36326345745662186, 0.36326345745662186, 0.22597987471926753],\n",
       "  [0.0, 0.41375818721694857, 0.41375818721694857, 0.0],\n",
       "  [0.0, 0.46547081346438274, 0.46547081346438274, 0.41375818721694857],\n",
       "  [0.0, 0.5462231540208043, 0.5462231540208043, 0.46547081346438274],\n",
       "  [0.36326345745662186,\n",
       "   0.6056909972442589,\n",
       "   0.6056909972442589,\n",
       "   0.5462231540208043],\n",
       "  [0.5966620601137635,\n",
       "   0.6099669126177117,\n",
       "   0.6099669126177117,\n",
       "   0.6056909972442589],\n",
       "  [0.0, 0.6180207538794575, 0.6180207538794575, 0.6099669126177117],\n",
       "  [0.5417956681699089,\n",
       "   0.6850524074519455,\n",
       "   0.6850524074519455,\n",
       "   0.6180207538794575],\n",
       "  [0.3025254744825114,\n",
       "   0.7347476549925167,\n",
       "   0.7347476549925167,\n",
       "   0.6850524074519455],\n",
       "  [0.6917316410887994,\n",
       "   0.8710657468035006,\n",
       "   0.8710657468035006,\n",
       "   0.7347476549925167],\n",
       "  [0.0, 1.1975712886814798, 1.1975712886814798, 0.8710657468035006],\n",
       "  [0.0, 1.214539340314367, 1.214539340314367, 1.1975712886814798],\n",
       "  [0.0, 1.2627635801445691, 1.2627635801445691, 1.214539340314367],\n",
       "  [0.0, 0.4126869084885931, 0.4126869084885931, 0.0],\n",
       "  [0.0, 0.5949570792716372, 0.5949570792716372, 0.0],\n",
       "  [0.0, 0.7207820417235867, 0.7207820417235867, 0.5949570792716372],\n",
       "  [0.0, 0.2893169484657896, 0.2893169484657896, 0.0],\n",
       "  [0.0, 0.4967651094695491, 0.4967651094695491, 0.0],\n",
       "  [0.0, 0.5856044074452179, 0.5856044074452179, 0.4967651094695491],\n",
       "  [0.0, 0.36144575105853033, 0.36144575105853033, 0.0],\n",
       "  [0.0, 0.5722951448722489, 0.5722951448722489, 0.36144575105853033],\n",
       "  [0.0, 0.07667184066236239, 0.07667184066236239, 0.0],\n",
       "  [0.0, 0.25348167314304937, 0.25348167314304937, 0.07667184066236239],\n",
       "  [0.0, 0.2555414641710841, 0.2555414641710841, 0.0],\n",
       "  [0.0, 0.2714833557868585, 0.2714833557868585, 0.2555414641710841],\n",
       "  [0.0, 0.304277855247733, 0.304277855247733, 0.2714833557868585],\n",
       "  [0.0, 0.42673289726689595, 0.42673289726689595, 0.304277855247733],\n",
       "  [0.0, 0.5633194251332608, 0.5633194251332608, 0.42673289726689595],\n",
       "  [0.25348167314304937,\n",
       "   0.5919043086096164,\n",
       "   0.5919043086096164,\n",
       "   0.5633194251332608],\n",
       "  [0.5722951448722489,\n",
       "   0.5973509721344857,\n",
       "   0.5973509721344857,\n",
       "   0.5919043086096164],\n",
       "  [0.5856044074452179,\n",
       "   0.6426494493106565,\n",
       "   0.6426494493106565,\n",
       "   0.5973509721344857],\n",
       "  [0.2893169484657896,\n",
       "   0.7237086755573042,\n",
       "   0.7237086755573042,\n",
       "   0.6426494493106565],\n",
       "  [0.7207820417235867,\n",
       "   0.7306175527304364,\n",
       "   0.7306175527304364,\n",
       "   0.7237086755573042],\n",
       "  [0.0, 0.8161892162880019, 0.8161892162880019, 0.7306175527304364],\n",
       "  [0.4126869084885931,\n",
       "   0.868875973189803,\n",
       "   0.868875973189803,\n",
       "   0.8161892162880019],\n",
       "  [0.0, 0.9482732828242649, 0.9482732828242649, 0.868875973189803],\n",
       "  [0.0, 1.8480347154091534, 1.8480347154091534, 0.9482732828242649],\n",
       "  [0.0, 0.19217600381720032, 0.19217600381720032, 0.0],\n",
       "  [0.0, 0.6747099236957527, 0.6747099236957527, 0.19217600381720032],\n",
       "  [0.0, 0.7076584752975988, 0.7076584752975988, 0.6747099236957527],\n",
       "  [0.0, 0.29818793176638, 0.29818793176638, 0.0],\n",
       "  [0.0, 0.21376696994394667, 0.21376696994394667, 0.0],\n",
       "  [0.0, 0.26030877342554093, 0.26030877342554093, 0.0],\n",
       "  [0.0, 0.26046665447912226, 0.26046665447912226, 0.26030877342554093],\n",
       "  [0.21376696994394667,\n",
       "   0.3690838195154961,\n",
       "   0.3690838195154961,\n",
       "   0.26046665447912226],\n",
       "  [0.0, 0.30291198384811785, 0.30291198384811785, 0.0],\n",
       "  [0.0, 0.22343463457752938, 0.22343463457752938, 0.0],\n",
       "  [0.0, 0.22510041195863773, 0.22510041195863773, 0.0],\n",
       "  [0.22343463457752938,\n",
       "   0.31830597032474106,\n",
       "   0.31830597032474106,\n",
       "   0.22510041195863773],\n",
       "  [0.30291198384811785,\n",
       "   0.4167029125659531,\n",
       "   0.4167029125659531,\n",
       "   0.31830597032474106],\n",
       "  [0.3690838195154961,\n",
       "   0.43664880291340297,\n",
       "   0.43664880291340297,\n",
       "   0.4167029125659531],\n",
       "  [0.0, 0.43951660935202896, 0.43951660935202896, 0.43664880291340297],\n",
       "  [0.0, 0.45596661626174023, 0.45596661626174023, 0.43951660935202896],\n",
       "  [0.29818793176638,\n",
       "   0.4981050859680765,\n",
       "   0.4981050859680765,\n",
       "   0.45596661626174023],\n",
       "  [0.0, 0.6326801496932468, 0.6326801496932468, 0.0],\n",
       "  [0.4981050859680765,\n",
       "   0.7173790093423558,\n",
       "   0.7173790093423558,\n",
       "   0.6326801496932468],\n",
       "  [0.0, 0.720387540846818, 0.720387540846818, 0.7173790093423558],\n",
       "  [0.0, 0.7269776546803022, 0.7269776546803022, 0.720387540846818],\n",
       "  [0.0, 0.764312504575918, 0.764312504575918, 0.7269776546803022],\n",
       "  [0.7076584752975988,\n",
       "   0.8347561624781188,\n",
       "   0.8347561624781188,\n",
       "   0.764312504575918],\n",
       "  [0.0, 1.2364603944571144, 1.2364603944571144, 0.8347561624781188],\n",
       "  [0.0, 0.8782332926987332, 0.8782332926987332, 0.0],\n",
       "  [0.0, 0.6436170302045434, 0.6436170302045434, 0.0],\n",
       "  [0.0, 0.21284000752877857, 0.21284000752877857, 0.0],\n",
       "  [0.0, 0.28053609379024685, 0.28053609379024685, 0.21284000752877857],\n",
       "  [0.0, 0.3502519018544965, 0.3502519018544965, 0.28053609379024685],\n",
       "  [0.0, 0.19627868883181546, 0.19627868883181546, 0.0],\n",
       "  [0.0, 0.1474926765471232, 0.1474926765471232, 0.0],\n",
       "  [0.0, 0.24799771166676252, 0.24799771166676252, 0.1474926765471232],\n",
       "  [0.0, 0.2825511745474537, 0.2825511745474537, 0.24799771166676252],\n",
       "  [0.19627868883181546,\n",
       "   0.36361070836793696,\n",
       "   0.36361070836793696,\n",
       "   0.2825511745474537],\n",
       "  [0.3502519018544965,\n",
       "   0.37510074208623173,\n",
       "   0.37510074208623173,\n",
       "   0.36361070836793696],\n",
       "  [0.0, 0.3859768262694609, 0.3859768262694609, 0.37510074208623173],\n",
       "  [0.0, 0.43943807135878077, 0.43943807135878077, 0.0],\n",
       "  [0.3859768262694609,\n",
       "   0.47847233488024166,\n",
       "   0.47847233488024166,\n",
       "   0.43943807135878077],\n",
       "  [0.0, 0.4843461388677585, 0.4843461388677585, 0.47847233488024166],\n",
       "  [0.0, 0.5386234539291964, 0.5386234539291964, 0.4843461388677585],\n",
       "  [0.0, 0.5416851122906091, 0.5416851122906091, 0.5386234539291964],\n",
       "  [0.0, 0.6116702034188758, 0.6116702034188758, 0.5416851122906091],\n",
       "  [0.0, 0.7828015521210441, 0.7828015521210441, 0.6116702034188758],\n",
       "  [0.6436170302045434,\n",
       "   0.8891450049525539,\n",
       "   0.8891450049525539,\n",
       "   0.7828015521210441],\n",
       "  [0.8782332926987332,\n",
       "   0.922392384433808,\n",
       "   0.922392384433808,\n",
       "   0.8891450049525539],\n",
       "  [0.0, 1.1693990972946404, 1.1693990972946404, 0.922392384433808],\n",
       "  [0.0, 1.1713463299998568, 1.1713463299998568, 1.1693990972946404],\n",
       "  [0.0, 1.5781561364001244, 1.5781561364001244, 1.1713463299998568],\n",
       "  [1.2364603944571144,\n",
       "   2.6761467727161796,\n",
       "   2.6761467727161796,\n",
       "   1.5781561364001244],\n",
       "  [1.8480347154091534,\n",
       "   10.899555415901183,\n",
       "   10.899555415901183,\n",
       "   2.6761467727161796],\n",
       "  [1.2627635801445691,\n",
       "   16.13538595654089,\n",
       "   16.13538595654089,\n",
       "   10.899555415901183]],\n",
       " 'ivl': ['86',\n",
       "  '85',\n",
       "  '78',\n",
       "  '87',\n",
       "  '91',\n",
       "  '94',\n",
       "  '90',\n",
       "  '93',\n",
       "  '83',\n",
       "  '97',\n",
       "  '75',\n",
       "  '89',\n",
       "  '79',\n",
       "  '80',\n",
       "  '82',\n",
       "  '92',\n",
       "  '77',\n",
       "  '96',\n",
       "  '76',\n",
       "  '81',\n",
       "  '84',\n",
       "  '88',\n",
       "  '95',\n",
       "  '98',\n",
       "  '99',\n",
       "  '54',\n",
       "  '66',\n",
       "  '62',\n",
       "  '73',\n",
       "  '58',\n",
       "  '70',\n",
       "  '50',\n",
       "  '55',\n",
       "  '51',\n",
       "  '59',\n",
       "  '61',\n",
       "  '60',\n",
       "  '67',\n",
       "  '52',\n",
       "  '64',\n",
       "  '72',\n",
       "  '69',\n",
       "  '57',\n",
       "  '63',\n",
       "  '71',\n",
       "  '53',\n",
       "  '68',\n",
       "  '74',\n",
       "  '56',\n",
       "  '65',\n",
       "  '29',\n",
       "  '49',\n",
       "  '41',\n",
       "  '45',\n",
       "  '47',\n",
       "  '36',\n",
       "  '44',\n",
       "  '25',\n",
       "  '26',\n",
       "  '42',\n",
       "  '33',\n",
       "  '40',\n",
       "  '34',\n",
       "  '39',\n",
       "  '27',\n",
       "  '28',\n",
       "  '30',\n",
       "  '35',\n",
       "  '48',\n",
       "  '38',\n",
       "  '46',\n",
       "  '32',\n",
       "  '37',\n",
       "  '31',\n",
       "  '43',\n",
       "  '9',\n",
       "  '13',\n",
       "  '14',\n",
       "  '11',\n",
       "  '21',\n",
       "  '2',\n",
       "  '10',\n",
       "  '17',\n",
       "  '0',\n",
       "  '3',\n",
       "  '7',\n",
       "  '15',\n",
       "  '6',\n",
       "  '19',\n",
       "  '23',\n",
       "  '5',\n",
       "  '16',\n",
       "  '8',\n",
       "  '24',\n",
       "  '22',\n",
       "  '18',\n",
       "  '12',\n",
       "  '20',\n",
       "  '1',\n",
       "  '4'],\n",
       " 'leaves': [86,\n",
       "  85,\n",
       "  78,\n",
       "  87,\n",
       "  91,\n",
       "  94,\n",
       "  90,\n",
       "  93,\n",
       "  83,\n",
       "  97,\n",
       "  75,\n",
       "  89,\n",
       "  79,\n",
       "  80,\n",
       "  82,\n",
       "  92,\n",
       "  77,\n",
       "  96,\n",
       "  76,\n",
       "  81,\n",
       "  84,\n",
       "  88,\n",
       "  95,\n",
       "  98,\n",
       "  99,\n",
       "  54,\n",
       "  66,\n",
       "  62,\n",
       "  73,\n",
       "  58,\n",
       "  70,\n",
       "  50,\n",
       "  55,\n",
       "  51,\n",
       "  59,\n",
       "  61,\n",
       "  60,\n",
       "  67,\n",
       "  52,\n",
       "  64,\n",
       "  72,\n",
       "  69,\n",
       "  57,\n",
       "  63,\n",
       "  71,\n",
       "  53,\n",
       "  68,\n",
       "  74,\n",
       "  56,\n",
       "  65,\n",
       "  29,\n",
       "  49,\n",
       "  41,\n",
       "  45,\n",
       "  47,\n",
       "  36,\n",
       "  44,\n",
       "  25,\n",
       "  26,\n",
       "  42,\n",
       "  33,\n",
       "  40,\n",
       "  34,\n",
       "  39,\n",
       "  27,\n",
       "  28,\n",
       "  30,\n",
       "  35,\n",
       "  48,\n",
       "  38,\n",
       "  46,\n",
       "  32,\n",
       "  37,\n",
       "  31,\n",
       "  43,\n",
       "  9,\n",
       "  13,\n",
       "  14,\n",
       "  11,\n",
       "  21,\n",
       "  2,\n",
       "  10,\n",
       "  17,\n",
       "  0,\n",
       "  3,\n",
       "  7,\n",
       "  15,\n",
       "  6,\n",
       "  19,\n",
       "  23,\n",
       "  5,\n",
       "  16,\n",
       "  8,\n",
       "  24,\n",
       "  22,\n",
       "  18,\n",
       "  12,\n",
       "  20,\n",
       "  1,\n",
       "  4],\n",
       " 'color_list': ['C1',\n",
       "  'C1',\n",
       "  'C1',\n",
       "  'C1',\n",
       "  'C1',\n",
       "  'C1',\n",
       "  'C1',\n",
       "  'C1',\n",
       "  'C1',\n",
       "  'C1',\n",
       "  'C1',\n",
       "  'C1',\n",
       "  'C1',\n",
       "  'C1',\n",
       "  'C1',\n",
       "  'C1',\n",
       "  'C1',\n",
       "  'C1',\n",
       "  'C1',\n",
       "  'C1',\n",
       "  'C1',\n",
       "  'C1',\n",
       "  'C1',\n",
       "  'C1',\n",
       "  'C2',\n",
       "  'C2',\n",
       "  'C2',\n",
       "  'C2',\n",
       "  'C2',\n",
       "  'C2',\n",
       "  'C2',\n",
       "  'C2',\n",
       "  'C2',\n",
       "  'C2',\n",
       "  'C2',\n",
       "  'C2',\n",
       "  'C2',\n",
       "  'C2',\n",
       "  'C2',\n",
       "  'C2',\n",
       "  'C2',\n",
       "  'C2',\n",
       "  'C2',\n",
       "  'C2',\n",
       "  'C2',\n",
       "  'C2',\n",
       "  'C2',\n",
       "  'C2',\n",
       "  'C2',\n",
       "  'C2',\n",
       "  'C2',\n",
       "  'C2',\n",
       "  'C2',\n",
       "  'C2',\n",
       "  'C2',\n",
       "  'C2',\n",
       "  'C2',\n",
       "  'C2',\n",
       "  'C2',\n",
       "  'C2',\n",
       "  'C2',\n",
       "  'C2',\n",
       "  'C2',\n",
       "  'C2',\n",
       "  'C2',\n",
       "  'C2',\n",
       "  'C2',\n",
       "  'C2',\n",
       "  'C2',\n",
       "  'C2',\n",
       "  'C2',\n",
       "  'C2',\n",
       "  'C2',\n",
       "  'C2',\n",
       "  'C2',\n",
       "  'C2',\n",
       "  'C2',\n",
       "  'C2',\n",
       "  'C2',\n",
       "  'C2',\n",
       "  'C2',\n",
       "  'C2',\n",
       "  'C2',\n",
       "  'C2',\n",
       "  'C2',\n",
       "  'C2',\n",
       "  'C2',\n",
       "  'C2',\n",
       "  'C2',\n",
       "  'C2',\n",
       "  'C2',\n",
       "  'C2',\n",
       "  'C2',\n",
       "  'C2',\n",
       "  'C2',\n",
       "  'C2',\n",
       "  'C2',\n",
       "  'C2',\n",
       "  'C0'],\n",
       " 'leaves_color_list': ['C1',\n",
       "  'C1',\n",
       "  'C1',\n",
       "  'C1',\n",
       "  'C1',\n",
       "  'C1',\n",
       "  'C1',\n",
       "  'C1',\n",
       "  'C1',\n",
       "  'C1',\n",
       "  'C1',\n",
       "  'C1',\n",
       "  'C1',\n",
       "  'C1',\n",
       "  'C1',\n",
       "  'C1',\n",
       "  'C1',\n",
       "  'C1',\n",
       "  'C1',\n",
       "  'C1',\n",
       "  'C1',\n",
       "  'C1',\n",
       "  'C1',\n",
       "  'C1',\n",
       "  'C1',\n",
       "  'C2',\n",
       "  'C2',\n",
       "  'C2',\n",
       "  'C2',\n",
       "  'C2',\n",
       "  'C2',\n",
       "  'C2',\n",
       "  'C2',\n",
       "  'C2',\n",
       "  'C2',\n",
       "  'C2',\n",
       "  'C2',\n",
       "  'C2',\n",
       "  'C2',\n",
       "  'C2',\n",
       "  'C2',\n",
       "  'C2',\n",
       "  'C2',\n",
       "  'C2',\n",
       "  'C2',\n",
       "  'C2',\n",
       "  'C2',\n",
       "  'C2',\n",
       "  'C2',\n",
       "  'C2',\n",
       "  'C2',\n",
       "  'C2',\n",
       "  'C2',\n",
       "  'C2',\n",
       "  'C2',\n",
       "  'C2',\n",
       "  'C2',\n",
       "  'C2',\n",
       "  'C2',\n",
       "  'C2',\n",
       "  'C2',\n",
       "  'C2',\n",
       "  'C2',\n",
       "  'C2',\n",
       "  'C2',\n",
       "  'C2',\n",
       "  'C2',\n",
       "  'C2',\n",
       "  'C2',\n",
       "  'C2',\n",
       "  'C2',\n",
       "  'C2',\n",
       "  'C2',\n",
       "  'C2',\n",
       "  'C2',\n",
       "  'C2',\n",
       "  'C2',\n",
       "  'C2',\n",
       "  'C2',\n",
       "  'C2',\n",
       "  'C2',\n",
       "  'C2',\n",
       "  'C2',\n",
       "  'C2',\n",
       "  'C2',\n",
       "  'C2',\n",
       "  'C2',\n",
       "  'C2',\n",
       "  'C2',\n",
       "  'C2',\n",
       "  'C2',\n",
       "  'C2',\n",
       "  'C2',\n",
       "  'C2',\n",
       "  'C2',\n",
       "  'C2',\n",
       "  'C2',\n",
       "  'C2',\n",
       "  'C2',\n",
       "  'C2']}"
      ]
     },
     "execution_count": 34,
     "metadata": {},
     "output_type": "execute_result"
    },
    {
     "data": {
      "image/png": "[encoded data removed]",
      "text/plain": [
       "<Figure size 640x480 with 1 Axes>"
      ]
     },
     "metadata": {},
     "output_type": "display_data"
    }
   ],
   "source": [
    "# 階層クラスタリングの樹形図を表示する\n",
    "dendrogram(linkage_matrix)"
   ]
  },
  {
   "cell_type": "markdown",
   "metadata": {},
   "source": [
    "Implement a clustering algorithm that cuts the dendrogram in order to produce k clusters using the fcluster function from scipy.cluster.hierarchy."
   ]
  },
  {
   "cell_type": "code",
   "execution_count": null,
   "metadata": {},
   "outputs": [],
   "source": []
  },
  {
   "cell_type": "markdown",
   "metadata": {},
   "source": [
    "Compute the rand index between the reference clustering and 100 runs of this clustering algorithm."
   ]
  },
  {
   "cell_type": "code",
   "execution_count": null,
   "metadata": {},
   "outputs": [],
   "source": []
  },
  {
   "cell_type": "markdown",
   "metadata": {},
   "source": [
    "Display results and compute the mean and standard deviation."
   ]
  },
  {
   "cell_type": "code",
   "execution_count": null,
   "metadata": {},
   "outputs": [],
   "source": []
  },
  {
   "cell_type": "markdown",
   "metadata": {},
   "source": [
    "Explain why the standard deviation is 0."
   ]
  },
  {
   "cell_type": "markdown",
   "metadata": {},
   "source": [
    "answer here"
   ]
  },
  {
   "cell_type": "markdown",
   "metadata": {},
   "source": [
    "## Partitional Clustering\n",
    "\n",
    "Implement the k-means algorithm (see https://en.wikipedia.org/wiki/K-means_clustering section Standard algorithm for reference).\n",
    "\n",
    "Hint: please consider the cdist function from scipy.spatial.distance to compute the distance of the points to the centroids."
   ]
  },
  {
   "cell_type": "code",
   "execution_count": null,
   "metadata": {},
   "outputs": [],
   "source": [
    "    "
   ]
  },
  {
   "cell_type": "markdown",
   "metadata": {},
   "source": [
    "Compute the rand index between the reference clustering and 100 runs of this clustering algorithm."
   ]
  },
  {
   "cell_type": "code",
   "execution_count": null,
   "metadata": {},
   "outputs": [],
   "source": []
  },
  {
   "cell_type": "markdown",
   "metadata": {},
   "source": [
    "Display results and compute the mean and standard deviation."
   ]
  },
  {
   "cell_type": "code",
   "execution_count": null,
   "metadata": {},
   "outputs": [],
   "source": []
  },
  {
   "cell_type": "markdown",
   "metadata": {},
   "source": [
    "## Performance Analysis\n",
    "\n",
    "Display the performance of the 3 clustering algorithms on the synthetic dataset using the bar function from matplotlib.pyplot."
   ]
  },
  {
   "cell_type": "code",
   "execution_count": null,
   "metadata": {},
   "outputs": [],
   "source": []
  },
  {
   "cell_type": "markdown",
   "metadata": {},
   "source": [
    "Load the iris dataset using the load_iris function from scikit-learn and perform the same performance analysis using this dataset."
   ]
  },
  {
   "cell_type": "code",
   "execution_count": null,
   "metadata": {},
   "outputs": [],
   "source": []
  },
  {
   "cell_type": "markdown",
   "metadata": {},
   "source": [
    "Load the Breast cancer wisconsin (diagnostic) dataset dataset using the load_breast_cancer function from scikit-learn and perform the same performance analysis using this dataset."
   ]
  },
  {
   "cell_type": "code",
   "execution_count": null,
   "metadata": {},
   "outputs": [],
   "source": []
  },
  {
   "cell_type": "markdown",
   "metadata": {},
   "source": [
    "## [Bonus] Determining the number of clusters\n",
    "\n",
    "Implement the gap statistic method for determining the optimal number of clusters for the 3 datasets.\n"
   ]
  },
  {
   "cell_type": "code",
   "execution_count": null,
   "metadata": {},
   "outputs": [],
   "source": []
  },
  {
   "cell_type": "markdown",
   "metadata": {},
   "source": [
    "Discuss the results."
   ]
  },
  {
   "cell_type": "markdown",
   "metadata": {},
   "source": [
    "answer here."
   ]
  },
  {
   "cell_type": "code",
   "execution_count": null,
   "metadata": {},
   "outputs": [],
   "source": []
  }
 ],
 "metadata": {
  "kernelspec": {
   "display_name": "Python 3 (ipykernel)",
   "language": "python",
   "name": "python3"
  },
  "language_info": {
   "codemirror_mode": {
    "name": "ipython",
    "version": 3
   },
   "file_extension": ".py",
   "mimetype": "text/x-python",
   "name": "python",
   "nbconvert_exporter": "python",
   "pygments_lexer": "ipython3",
   "version": "3.12.0"
  }
 },
 "nbformat": 4,
 "nbformat_minor": 4
}
