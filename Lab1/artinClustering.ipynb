{
 "cells": [
  {
   "cell_type": "markdown",
   "metadata": {},
   "source": [
    "# CLUSTERING PRACTICAL\n",
    "\n",
    "## ARTIN\n",
    "\n",
    "## Mathieu Lagrange\n",
    "\n",
    "reports are to be sent to [mathieu dot lagrange at ec-nantes dot fr] no later than a week after the lab"
   ]
  },
  {
   "cell_type": "markdown",
   "metadata": {},
   "source": [
    "So Onishi<br>\n",
    "Send to: modan.tailleur@ls2n.fr"
   ]
  },
  {
   "cell_type": "markdown",
   "metadata": {},
   "source": [
    "## Import tools\n",
    "\n",
    "please import others if needed"
   ]
  },
  {
   "cell_type": "code",
   "execution_count": 362,
   "metadata": {},
   "outputs": [],
   "source": [
    "import numpy as np\n",
    "import matplotlib.pyplot as plt\n",
    "import sklearn as sk"
   ]
  },
  {
   "cell_type": "markdown",
   "metadata": {},
   "source": [
    "## Data: generate a synthetic dataset\n",
    "\n",
    "Generate a set of 100 points in a 2 dimensional space split into 4 non overlapping\n",
    "clusters.\n",
    "\n",
    "100点のデータを2次元空間に生成し、それを4つの非重複クラスタに分ける問題"
   ]
  },
  {
   "cell_type": "code",
   "execution_count": 363,
   "metadata": {},
   "outputs": [
    {
     "name": "stdout",
     "output_type": "stream",
     "text": [
      "points1:\n",
      "[[-0.89985919 -0.82467772]\n",
      " [ 0.41684046 -0.97539604]\n",
      " [ 0.76066137  1.11448629]\n",
      " [ 0.13694423  0.34335103]\n",
      " [ 1.23170022  0.04860643]\n",
      " [-1.63952731 -0.22756256]\n",
      " [ 0.11526943  0.04668359]\n",
      " [ 1.43807825 -1.62592937]\n",
      " [ 0.22077767  0.98576374]\n",
      " [ 0.19004437 -0.62916767]\n",
      " [ 1.07282747  0.91447887]\n",
      " [-0.88540962  1.26344064]\n",
      " [ 0.5344113   1.10147053]\n",
      " [ 1.45533044  0.66640818]\n",
      " [ 0.31504399  0.55349303]\n",
      " [ 0.19163613 -2.11915593]\n",
      " [ 1.19729331 -0.76526788]\n",
      " [ 0.5675599   0.52446574]\n",
      " [ 1.02937902  1.12055174]\n",
      " [ 0.90863891  2.14804887]\n",
      " [-0.19961889  1.14028099]\n",
      " [ 0.89521219  0.69687531]\n",
      " [ 0.72249347 -0.44150887]\n",
      " [ 0.4179889   0.79941937]\n",
      " [ 0.15914446 -0.11665813]]\n"
     ]
    }
   ],
   "source": [
    "# 適当なデータセットを作成\n",
    "# np.random.seed(42)\n",
    "\n",
    "points1 = np.random.randn(25, 2)\n",
    "points2 = np.random.randn(25, 2) + np.array([5, 5])\n",
    "points3 = np.random.randn(25, 2) + np.array([15, 15])\n",
    "points4 = np.random.randn(25, 2) + np.array([30, 30])\n",
    "\n",
    "print(\"points1:\\n\" + str(points1)) "
   ]
  },
  {
   "cell_type": "code",
   "execution_count": 364,
   "metadata": {},
   "outputs": [
    {
     "name": "stdout",
     "output_type": "stream",
     "text": [
      "[0. 0. 0. 0. 0. 0. 0. 0. 0. 0. 0. 0. 0. 0. 0. 0. 0. 0. 0. 0. 0. 0. 0. 0.\n",
      " 0. 1. 1. 1. 1. 1. 1. 1. 1. 1. 1. 1. 1. 1. 1. 1. 1. 1. 1. 1. 1. 1. 1. 1.\n",
      " 1. 1. 2. 2. 2. 2. 2. 2. 2. 2. 2. 2. 2. 2. 2. 2. 2. 2. 2. 2. 2. 2. 2. 2.\n",
      " 2. 2. 2. 3. 3. 3. 3. 3. 3. 3. 3. 3. 3. 3. 3. 3. 3. 3. 3. 3. 3. 3. 3. 3.\n",
      " 3. 3. 3. 3.]\n"
     ]
    }
   ],
   "source": [
    "# 各クラスタにラベルを割り当てる\n",
    "labels1 = np.zeros(25)  # points1に0のラベルを割り当てる\n",
    "labels2 = np.ones(25)   # points2に1のラベルを割り当てる\n",
    "labels3 = np.full(25, 2)  # points3に2のラベルを割り当てる（np.fullで全要素を2にする）\n",
    "labels4 = np.full(25, 3)  # points4に3のラベルを割り当てる（np.fullで全要素を3にする）\n",
    "\n",
    "# ラベル配列を結合する\n",
    "truth_labels = np.r_[labels1, labels2, labels3, labels4]\n",
    "\n",
    "print(truth_labels)"
   ]
  },
  {
   "cell_type": "code",
   "execution_count": 365,
   "metadata": {},
   "outputs": [
    {
     "name": "stdout",
     "output_type": "stream",
     "text": [
      "[[-0.89985919 -0.82467772]\n",
      " [ 0.41684046 -0.97539604]\n",
      " [ 0.76066137  1.11448629]\n",
      " [ 0.13694423  0.34335103]\n",
      " [ 1.23170022  0.04860643]\n",
      " [-1.63952731 -0.22756256]\n",
      " [ 0.11526943  0.04668359]\n",
      " [ 1.43807825 -1.62592937]\n",
      " [ 0.22077767  0.98576374]\n",
      " [ 0.19004437 -0.62916767]\n",
      " [ 1.07282747  0.91447887]\n",
      " [-0.88540962  1.26344064]\n",
      " [ 0.5344113   1.10147053]\n",
      " [ 1.45533044  0.66640818]\n",
      " [ 0.31504399  0.55349303]\n",
      " [ 0.19163613 -2.11915593]\n",
      " [ 1.19729331 -0.76526788]\n",
      " [ 0.5675599   0.52446574]\n",
      " [ 1.02937902  1.12055174]\n",
      " [ 0.90863891  2.14804887]\n",
      " [-0.19961889  1.14028099]\n",
      " [ 0.89521219  0.69687531]\n",
      " [ 0.72249347 -0.44150887]\n",
      " [ 0.4179889   0.79941937]\n",
      " [ 0.15914446 -0.11665813]\n",
      " [ 4.3055494   5.61019581]\n",
      " [ 3.71158032  2.79217419]\n",
      " [ 3.97895365  4.56819713]\n",
      " [ 5.91653575  4.68932626]\n",
      " [ 5.63999919  3.99958239]\n",
      " [ 3.39229675  4.8910533 ]\n",
      " [ 6.00680877  6.28049983]\n",
      " [ 4.79228304  4.3746512 ]\n",
      " [ 5.00040095  4.909947  ]\n",
      " [ 6.36475563  5.82483385]\n",
      " [ 6.31202478  3.72785494]\n",
      " [ 5.38873797  6.46985667]\n",
      " [ 4.97095624  4.91275991]\n",
      " [ 6.71518989  7.68467289]\n",
      " [ 4.08561755  4.17813722]\n",
      " [ 5.01188429  6.46331504]\n",
      " [ 6.39520833  7.17977502]\n",
      " [ 5.85073842  3.10521363]\n",
      " [ 5.6831479   6.16403932]\n",
      " [ 6.20948501  3.9842554 ]\n",
      " [ 5.96176155  4.29823779]\n",
      " [ 6.61632222  5.31375117]\n",
      " [ 4.23745215  7.61005523]\n",
      " [ 5.42075201  5.38353422]\n",
      " [ 6.27298269  6.60041073]\n",
      " [14.09687647 15.26267526]\n",
      " [15.44136775 15.07510023]\n",
      " [15.40471201 15.06130318]\n",
      " [16.17173763 15.67045706]\n",
      " [13.73662673 15.68602495]\n",
      " [14.52909704 15.2589391 ]\n",
      " [15.13916774 13.2324064 ]\n",
      " [15.33197456 14.39649491]\n",
      " [17.18376351 14.17032253]\n",
      " [15.76902782 15.34595776]\n",
      " [15.6755143  15.31432549]\n",
      " [15.25657693 15.2651312 ]\n",
      " [15.32669038 14.1339451 ]\n",
      " [15.80479916 16.06388651]\n",
      " [14.83817445 15.97465293]\n",
      " [14.69761981 15.81047208]\n",
      " [14.19291773 15.07422746]\n",
      " [16.69902593 14.1676562 ]\n",
      " [12.99796369 13.95480897]\n",
      " [13.44209124 14.68393798]\n",
      " [15.89801509 14.18646322]\n",
      " [15.43626332 14.5087521 ]\n",
      " [14.32054762 13.70498149]\n",
      " [14.61774514 17.76389945]\n",
      " [15.32056829 15.27279616]\n",
      " [30.67299538 29.85332641]\n",
      " [29.82718841 29.91382195]\n",
      " [28.05448286 28.71605775]\n",
      " [30.49333973 30.13422565]\n",
      " [29.99298035 29.14560905]\n",
      " [29.75298221 30.65005466]\n",
      " [30.32840397 31.07236194]\n",
      " [30.03352734 29.73254604]\n",
      " [30.40082011 30.40116551]\n",
      " [29.26813664 29.70833202]\n",
      " [30.08062513 28.82989354]\n",
      " [28.84751096 30.16787759]\n",
      " [29.71142379 30.07182538]\n",
      " [30.88729789 30.02287219]\n",
      " [29.83364215 30.86476187]\n",
      " [30.92772747 30.9589755 ]\n",
      " [30.65464038 30.16429671]\n",
      " [29.47863562 28.55963721]\n",
      " [29.78643029 29.85083077]\n",
      " [30.14472709 30.74213763]\n",
      " [29.68432526 30.12371469]\n",
      " [31.03525668 29.99449284]\n",
      " [30.11975758 29.13198643]\n",
      " [29.06045591 30.23377708]\n",
      " [28.87639767 29.21905922]]\n"
     ]
    }
   ],
   "source": [
    "points = np.r_[points1, points2, points3, points4]\n",
    "print(points);"
   ]
  },
  {
   "cell_type": "code",
   "execution_count": 366,
   "metadata": {},
   "outputs": [
    {
     "data": {
      "text/plain": [
       "Text(0, 0.5, 'Feature 2')"
      ]
     },
     "execution_count": 366,
     "metadata": {},
     "output_type": "execute_result"
    },
    {
     "data": {
      "image/png": "[encoded data removed]",
      "text/plain": [
       "<Figure size 640x480 with 1 Axes>"
      ]
     },
     "metadata": {},
     "output_type": "display_data"
    }
   ],
   "source": [
    "plt.scatter(points[:, 0], points[:, 1], c=truth_labels)\n",
    "plt.xlabel('Feature 1')\n",
    "plt.ylabel('Feature 2')"
   ]
  },
  {
   "cell_type": "markdown",
   "metadata": {},
   "source": [
    "Display the set with one color per cluster using the scatter function from matplotlib.pyplot"
   ]
  },
  {
   "cell_type": "markdown",
   "metadata": {},
   "source": [
    "## Baseline: the random clustering algorithm\n",
    "\n",
    "Cluster this dataset into k clusters by assigning a random integer value between 0 and k-1 to each point."
   ]
  },
  {
   "cell_type": "code",
   "execution_count": 367,
   "metadata": {},
   "outputs": [],
   "source": [
    "# ラベル配列を結合する\n",
    "# pred_labels = np.random.randint(0, 4, points.shape[0])\n",
    "\n",
    "# print(pred_labels)"
   ]
  },
  {
   "cell_type": "code",
   "execution_count": 368,
   "metadata": {},
   "outputs": [],
   "source": [
    "# ランダムな予測ラベルを生成する関数\n",
    "def generate_random_labels(num_points, num_classes):\n",
    "    \"\"\"\n",
    "    指定された数のデータポイントに対して、0からnum_classes-1までのランダムなラベルを生成する。\n",
    "\n",
    "    Parameters:\n",
    "    num_points (int): ラベルを生成するデータポイントの数。\n",
    "    num_classes (int): 生成するラベルのクラス数。\n",
    "\n",
    "    Returns:\n",
    "    numpy.array: 生成されたランダムラベルの配列。\n",
    "    \"\"\"\n",
    "    return np.random.randint(0, num_classes, num_points)"
   ]
  },
  {
   "cell_type": "code",
   "execution_count": 369,
   "metadata": {},
   "outputs": [
    {
     "name": "stdout",
     "output_type": "stream",
     "text": [
      "[3 3 0 2 3 2 2 1 2 0 1 2 3 2 2 0 0 2 3 2 1 0 2 2 2 0 1 1 1 3 3 1 0 2 2 2 3\n",
      " 1 0 0 2 3 1 1 0 0 2 0 1 0 0 2 0 3 1 3 3 1 1 2 1 1 0 3 3 0 2 0 3 2 1 2 3 3\n",
      " 2 3 3 0 3 3 3 0 2 3 1 1 2 0 3 0 0 2 0 3 3 0 3 3 2 0]\n"
     ]
    }
   ],
   "source": [
    "pred_labels = generate_random_labels(len(points), 4)\n",
    "print(pred_labels)"
   ]
  },
  {
   "cell_type": "code",
   "execution_count": 370,
   "metadata": {},
   "outputs": [
    {
     "data": {
      "text/plain": [
       "Text(0, 0.5, 'Feature 2')"
      ]
     },
     "execution_count": 370,
     "metadata": {},
     "output_type": "execute_result"
    },
    {
     "data": {
      "image/png": "[encoded data removed]",
      "text/plain": [
       "<Figure size 640x480 with 1 Axes>"
      ]
     },
     "metadata": {},
     "output_type": "display_data"
    }
   ],
   "source": [
    "plt.scatter(points[:, 0], points[:, 1], c=pred_labels)\n",
    "plt.xlabel('Feature 1')\n",
    "plt.ylabel('Feature 2')"
   ]
  },
  {
   "cell_type": "markdown",
   "metadata": {},
   "source": [
    "## Metric: the rand index\n",
    "\n",
    "Implement the rand index criterion (see https://en.wikipedia.org/wiki/Rand_index for reference)"
   ]
  },
  {
   "cell_type": "code",
   "execution_count": 371,
   "metadata": {},
   "outputs": [],
   "source": [
    "# ランダムインデックスを計算する関数を定義する\n",
    "def calculate_rand_index(truth_labels, pred_labels):\n",
    "    n = len(truth_labels)\n",
    "    tp = 0  # true positive\n",
    "    tn = 0  # true negative\n",
    "\n",
    "    for i in range(n):\n",
    "        for j in range(i+1, n):\n",
    "            if truth_labels[i] == truth_labels[j] and pred_labels[i] == pred_labels[j]:\n",
    "                tp += 1\n",
    "            elif truth_labels[i] != truth_labels[j] and pred_labels[i] != pred_labels[j]:\n",
    "                tn += 1\n",
    "\n",
    "    # ランダムインデックスの計算\n",
    "    rand_index = (tp + tn) / (n * (n - 1) / 2)\n",
    "    return rand_index"
   ]
  },
  {
   "cell_type": "code",
   "execution_count": 372,
   "metadata": {},
   "outputs": [
    {
     "name": "stdout",
     "output_type": "stream",
     "text": [
      "Calculated Rand Index: 0.638989898989899\n"
     ]
    }
   ],
   "source": [
    "rand_index = calculate_rand_index(truth_labels, pred_labels)  # ランダムインデックスを計算\n",
    "print(\"Calculated Rand Index:\", rand_index)"
   ]
  },
  {
   "cell_type": "markdown",
   "metadata": {},
   "source": [
    "Compute the rand index between the reference clustering and 100 runs of the baseline algorithm.\n",
    "\n",
    "基準クラスタリングとベースラインアルゴリズムの100回の実行の間のrandインデックスを計算する。"
   ]
  },
  {
   "cell_type": "code",
   "execution_count": 373,
   "metadata": {},
   "outputs": [],
   "source": [
    "rand_indices = []\n",
    "n = len(truth_labels)\n",
    "\n",
    "for _ in range(n):\n",
    "    pred_labels = generate_random_labels(len(points), 4)\n",
    "    index = calculate_rand_index(truth_labels, pred_labels)\n",
    "    rand_indices.append(index)"
   ]
  },
  {
   "cell_type": "code",
   "execution_count": 374,
   "metadata": {},
   "outputs": [],
   "source": [
    "mean_rand_index = np.mean(rand_indices)\n",
    "std_rand_index = np.std(rand_indices)"
   ]
  },
  {
   "cell_type": "markdown",
   "metadata": {},
   "source": [
    "Display results and compute the mean and standard deviation.\n",
    "\n",
    "結果を表示し、平均と標準偏差を計算する。"
   ]
  },
  {
   "cell_type": "code",
   "execution_count": 375,
   "metadata": {},
   "outputs": [
    {
     "name": "stdout",
     "output_type": "stream",
     "text": [
      "0.6300626262626262\n",
      "0.005779663109791727\n"
     ]
    }
   ],
   "source": [
    "print(mean_rand_index)\n",
    "print(std_rand_index)"
   ]
  },
  {
   "cell_type": "markdown",
   "metadata": {},
   "source": [
    "## Hierarchical Clustering\n",
    "\n",
    "Compute the euclidean distance matrix using the pdist function from scipy.spatial.distance\n",
    "\n",
    "scipy.spatial.distanceのpdist関数を使用してユークリッド距離行列を計算します。"
   ]
  },
  {
   "cell_type": "code",
   "execution_count": 376,
   "metadata": {},
   "outputs": [],
   "source": [
    "from scipy.spatial.distance import pdist, squareform\n",
    "\n",
    "# ユークリッド距離を計算\n",
    "distance = pdist(points)\n",
    "distance_matrix = squareform(pdist(points))"
   ]
  },
  {
   "cell_type": "markdown",
   "metadata": {},
   "source": [
    "Display and interpret its shape"
   ]
  },
  {
   "cell_type": "code",
   "execution_count": 377,
   "metadata": {},
   "outputs": [
    {
     "name": "stdout",
     "output_type": "stream",
     "text": [
      "[1.32529769 2.55297583 1.56181065 ... 1.52841835 1.24640504 1.0312758 ]\n",
      "\n",
      "[[ 0.          1.32529769  2.55297583 ... 43.12329245 43.15377267\n",
      "  42.29954612]\n",
      " [ 1.32529769  0.          2.11797568 ... 42.29323544 42.36117554\n",
      "  41.49278884]\n",
      " [ 2.55297583  2.11797568  0.         ... 40.58246966 40.60555956\n",
      "  39.75376268]\n",
      " ...\n",
      " [43.12329245 42.29323544 40.58246966 ...  0.          1.52841835\n",
      "   1.24640504]\n",
      " [43.15377267 42.36117554 40.60555956 ...  1.52841835  0.\n",
      "   1.0312758 ]\n",
      " [42.29954612 41.49278884 39.75376268 ...  1.24640504  1.0312758\n",
      "   0.        ]]\n"
     ]
    }
   ],
   "source": [
    "# 距離行列を表示\n",
    "print(distance)\n",
    "print()\n",
    "print(distance_matrix)"
   ]
  },
  {
   "cell_type": "markdown",
   "metadata": {},
   "source": [
    "answer here\n",
    "\n",
    "The one-dimensional array representing the Euclidean distances between data points in a dataset has a length of `{n*(n-1)}/2`, where `n` is the number of data points in the dataset. This length corresponds to the number of unique pairwise combinations of points in the dataset. The two-dimensional distance matrix expands these distances into an `n * n` matrix, with the rows and columns representing the data points, and zeroes on the diagonal representing the distance of each point to itself."
   ]
  },
  {
   "cell_type": "markdown",
   "metadata": {},
   "source": [
    "Compute the single link hierarchical clustering using the linkage function from scipy.cluster.hierarchy."
   ]
  },
  {
   "cell_type": "code",
   "execution_count": null,
   "metadata": {},
   "outputs": [],
   "source": []
  },
  {
   "cell_type": "markdown",
   "metadata": {},
   "source": [
    "Display the corresponding dendrogram using the dendrogram function from scipy.cluster.hierarchy."
   ]
  },
  {
   "cell_type": "code",
   "execution_count": null,
   "metadata": {},
   "outputs": [],
   "source": []
  },
  {
   "cell_type": "markdown",
   "metadata": {},
   "source": [
    "Implement a clustering algorithm that cuts the dendrogram in order to produce k clusters using the fcluster function from scipy.cluster.hierarchy."
   ]
  },
  {
   "cell_type": "code",
   "execution_count": null,
   "metadata": {},
   "outputs": [],
   "source": []
  },
  {
   "cell_type": "markdown",
   "metadata": {},
   "source": [
    "Compute the rand index between the reference clustering and 100 runs of this clustering algorithm."
   ]
  },
  {
   "cell_type": "code",
   "execution_count": null,
   "metadata": {},
   "outputs": [],
   "source": []
  },
  {
   "cell_type": "markdown",
   "metadata": {},
   "source": [
    "Display results and compute the mean and standard deviation."
   ]
  },
  {
   "cell_type": "code",
   "execution_count": null,
   "metadata": {},
   "outputs": [],
   "source": []
  },
  {
   "cell_type": "markdown",
   "metadata": {},
   "source": [
    "Explain why the standard deviation is 0."
   ]
  },
  {
   "cell_type": "markdown",
   "metadata": {},
   "source": [
    "answer here"
   ]
  },
  {
   "cell_type": "markdown",
   "metadata": {},
   "source": [
    "## Partitional Clustering\n",
    "\n",
    "Implement the k-means algorithm (see https://en.wikipedia.org/wiki/K-means_clustering section Standard algorithm for reference).\n",
    "\n",
    "Hint: please consider the cdist function from scipy.spatial.distance to compute the distance of the points to the centroids."
   ]
  },
  {
   "cell_type": "code",
   "execution_count": null,
   "metadata": {},
   "outputs": [],
   "source": [
    "    "
   ]
  },
  {
   "cell_type": "markdown",
   "metadata": {},
   "source": [
    "Compute the rand index between the reference clustering and 100 runs of this clustering algorithm."
   ]
  },
  {
   "cell_type": "code",
   "execution_count": null,
   "metadata": {},
   "outputs": [],
   "source": []
  },
  {
   "cell_type": "markdown",
   "metadata": {},
   "source": [
    "Display results and compute the mean and standard deviation."
   ]
  },
  {
   "cell_type": "code",
   "execution_count": null,
   "metadata": {},
   "outputs": [],
   "source": []
  },
  {
   "cell_type": "markdown",
   "metadata": {},
   "source": [
    "## Performance Analysis\n",
    "\n",
    "Display the performance of the 3 clustering algorithms on the synthetic dataset using the bar function from matplotlib.pyplot."
   ]
  },
  {
   "cell_type": "code",
   "execution_count": null,
   "metadata": {},
   "outputs": [],
   "source": []
  },
  {
   "cell_type": "markdown",
   "metadata": {},
   "source": [
    "Load the iris dataset using the load_iris function from scikit-learn and perform the same performance analysis using this dataset."
   ]
  },
  {
   "cell_type": "code",
   "execution_count": null,
   "metadata": {},
   "outputs": [],
   "source": []
  },
  {
   "cell_type": "markdown",
   "metadata": {},
   "source": [
    "Load the Breast cancer wisconsin (diagnostic) dataset dataset using the load_breast_cancer function from scikit-learn and perform the same performance analysis using this dataset."
   ]
  },
  {
   "cell_type": "code",
   "execution_count": null,
   "metadata": {},
   "outputs": [],
   "source": []
  },
  {
   "cell_type": "markdown",
   "metadata": {},
   "source": [
    "## [Bonus] Determining the number of clusters\n",
    "\n",
    "Implement the gap statistic method for determining the optimal number of clusters for the 3 datasets.\n"
   ]
  },
  {
   "cell_type": "code",
   "execution_count": null,
   "metadata": {},
   "outputs": [],
   "source": []
  },
  {
   "cell_type": "markdown",
   "metadata": {},
   "source": [
    "Discuss the results."
   ]
  },
  {
   "cell_type": "markdown",
   "metadata": {},
   "source": [
    "answer here."
   ]
  },
  {
   "cell_type": "code",
   "execution_count": null,
   "metadata": {},
   "outputs": [],
   "source": []
  }
 ],
 "metadata": {
  "kernelspec": {
   "display_name": "Python 3 (ipykernel)",
   "language": "python",
   "name": "python3"
  },
  "language_info": {
   "codemirror_mode": {
    "name": "ipython",
    "version": 3
   },
   "file_extension": ".py",
   "mimetype": "text/x-python",
   "name": "python",
   "nbconvert_exporter": "python",
   "pygments_lexer": "ipython3",
   "version": "3.12.0"
  }
 },
 "nbformat": 4,
 "nbformat_minor": 4
}
