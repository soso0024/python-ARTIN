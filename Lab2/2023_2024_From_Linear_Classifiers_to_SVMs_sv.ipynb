{
  "cells": [
    {
      "cell_type": "markdown",
      "metadata": {
        "id": "NXIQSGPX85ir"
      },
      "source": [
        "#From Linear classifiers to SVMs\n",
        "** Ecole Centrale Nantes **\n",
        "\n",
        "** Diana Mateus **\n",
        "\n",
        "\n",
        "\n"
      ]
    },
    {
      "cell_type": "markdown",
      "metadata": {
        "id": "DPbG0deQ85ix"
      },
      "source": [
        "PARTICIPANTS: **(Fill in your names)**\n",
        "    "
      ]
    },
    {
      "cell_type": "code",
      "execution_count": 136,
      "metadata": {
        "id": "ocTv1dr885iy"
      },
      "outputs": [],
      "source": [
        "import os\n",
        "import numpy as np\n",
        "import matplotlib.pyplot as plt\n",
        "\n",
        "#Modules for image processing\n",
        "import skimage\n",
        "from skimage import io\n",
        "from skimage.color import rgb2gray\n",
        "from skimage.transform import resize\n",
        "\n",
        "#Modules for machine learning\n",
        "from sklearn.linear_model import LogisticRegression\n",
        "from sklearn.svm import SVC\n",
        "from sklearn.model_selection import GridSearchCV\n",
        "from sklearn.metrics import roc_curve\n",
        "\n",
        "#Useful for manual data splitting\n",
        "import random\n",
        "from sklearn.utils import shuffle"
      ]
    },
    {
      "cell_type": "markdown",
      "metadata": {
        "id": "4z79Frcx85i4"
      },
      "source": [
        "\n",
        "# 1. Loading and splitting data"
      ]
    },
    {
      "cell_type": "markdown",
      "metadata": {
        "id": "IYBvODRD85i5"
      },
      "source": [
        "**a)** Download the animals10classes dataset from hippocampus, which is a subset of the Caltech 101 dataset (http://www.vision.caltech.edu/Image_Datasets/Caltech101/Caltech101.html). The animals subset is composed of images belonging to one among 10 classes. Run the code bellow to check images and labels are read correctly and store the name of the classes in the list ```labelNamesAll```"
      ]
    },
    {
      "cell_type": "code",
      "execution_count": 137,
      "metadata": {
        "id": "bMFXMn5oBcQI"
      },
      "outputs": [],
      "source": [
        "# Uncomment if using COLAB  (and comment next cell)\n",
        "#from google.colab import drive\n",
        "#drive.mount('/content/drive')\n",
        "#IMDIR = ('/content/drive/MyDrive/DATA/animals10classes')\n"
      ]
    },
    {
      "cell_type": "code",
      "execution_count": 138,
      "metadata": {
        "id": "3NKCjlWRBLc7"
      },
      "outputs": [],
      "source": [
        "# Uncomment if running locally (comment if running in COLAB)\n",
        "IMDIR = './animals10classes'"
      ]
    },
    {
      "cell_type": "code",
      "execution_count": 139,
      "metadata": {
        "id": "x8Z0Hj8E85i6"
      },
      "outputs": [
        {
          "name": "stdout",
          "output_type": "stream",
          "text": [
            "['ant', 'butterfly', 'dragonfly', 'lobster', 'crocodile', 'starfish', 'octopus', 'sea_horse', 'flamingo', 'crayfish']\n"
          ]
        }
      ],
      "source": [
        "#Keep4students\n",
        "def loadImagesAndLabels(IMDIR):\n",
        "  #This function glances through all subdirectories in IMDIR,\n",
        "  #and creates a list of the subdirectory names, which will be\n",
        "  #used as labels for all the images within.The function returns\n",
        "  #the list of labels\n",
        "  #\n",
        "  #If the function returns an empty list, it is likely that IMDIR\n",
        "  #is not defined correctly. In that case uncomment the lines below\n",
        "  #to check the files that are actually being read.\n",
        "\n",
        "  labelNamesAll = []\n",
        "\n",
        "  for root, dirnames, filenames in os.walk(IMDIR):\n",
        "      labelNamesAll.append(dirnames)\n",
        "      #uncomment to check if the folder contains images\n",
        "      #for filename in filenames:\n",
        "      #   f = os.path.join(root, filename)\n",
        "      #   if f.endswith(('.png', '.jpg', '.jpeg','.JPG', '.tif', '.gif')):\n",
        "      #       print(f)\n",
        "\n",
        "  labelNamesAll = labelNamesAll[0]\n",
        "  return labelNamesAll\n",
        "\n",
        "#Call the function and\n",
        "#print the list of all labels/subdirectories\n",
        "labelNamesALL = loadImagesAndLabels(IMDIR)\n",
        "print(labelNamesALL)\n"
      ]
    },
    {
      "cell_type": "markdown",
      "metadata": {
        "id": "mQKa2DBl85i8"
      },
      "source": [
        "**b).** Use the BuildDataset function to create a reduced dataset. In this notebook we will notably deal with binary classification problems. Print the sizes of the data matrix X and the label vector Y. Print as well the retained list of labels and the content of Y.\n",
        "\n",
        "BuildDataset関数を使って縮小データセットを作成する。このノートでは，特に2値分類問題を扱います．データ行列Xとラベル・ベクトルYのサイズを印刷し，ラベルの保持リストとYの内容も印刷する．"
      ]
    },
    {
      "cell_type": "code",
      "execution_count": 140,
      "metadata": {
        "id": "RZCnlt7x85i-"
      },
      "outputs": [],
      "source": [
        "#Keep4students\n",
        "def buildDataset (IMDIR,labelNamesAll,K=2,N=100,imHeight=100,imWidth=100,seed=50):\n",
        "    #This function builds the data matrix from (a subset) of the label list.\n",
        "    #Images are read using a composition of the path and the label list.\n",
        "    #Parameters of this functions are:\n",
        "    # K : the number of classes to consider\n",
        "    # N : the maximum number of images to read from each category (the number\n",
        "    #    of images per label is variable).\n",
        "    # imHeight,imWidth: define the size of the target image. All read images\n",
        "    #                  are resized to imHeight x imWidth\n",
        "    # seed : fixes the random seed to be able to reproduce the results.\n",
        "    # The function returns the data matrix X and the label vector Y.\n",
        "    # Ideally, the X matrix will be of size (KxN)x(ImHeight x ImWidth) but\n",
        "    # the number of rows will be less if there number of images in a given\n",
        "    # category is smaller than N\n",
        "\n",
        "    X = np.zeros([K*N,imHeight*imWidth]) #data matrix, one image per row\n",
        "    Y = -np.ones([K*N,1]) #label indices initiallized to -1\n",
        "    labelNames = [] #list of retained categories\n",
        "\n",
        "    random.seed(a=seed) #comment to make each run random\n",
        "\n",
        "    globalCount = 0 #counts the actual number of images copied to the datamatrix\n",
        "\n",
        "    # Iterate over the number of classes\n",
        "    for i in range(K):\n",
        "        #Randomly choose a new category\n",
        "        while True:\n",
        "            lab = random.randint(0,len(labelNamesAll)-1)\n",
        "            if lab not in labelNames:\n",
        "                break\n",
        "\n",
        "        #define the path to read the images of the chosen label.\n",
        "        #folders are named after the class label, print the chosen label\n",
        "        filedir = os.path.join(IMDIR,labelNamesAll[lab])\n",
        "        print('The chosen label ',i, ' is ',labelNamesAll[lab])\n",
        "        print('It will be read in',filedir)\n",
        "\n",
        "        #save the name of the class in labelNames\n",
        "        labelNames.append(labelNamesAll[lab])\n",
        "\n",
        "        #walk through the files of the label folder,\n",
        "        #read images in grayscale and resize them\n",
        "        #flatten the images to a vector\n",
        "        #copy each image to one row of the data matrix\n",
        "        #use classCount to retain at most N images per class\n",
        "        #use globalCount to keep track of the total number of images \n",
        "        classCount = 0\n",
        "        for filename in os.listdir(filedir):\n",
        "            f = os.path.join(filedir, filename)\n",
        "            if f.endswith(('.jpg')) and (classCount < N):\n",
        "                image = skimage.io.imread(f, as_gray=True)\n",
        "                image = skimage.transform.resize(image, [imHeight,imWidth],mode='constant')#,anti_aliasing=True)\n",
        "                X[globalCount,:] = image.flatten()\n",
        "                Y[globalCount,:] = i\n",
        "                globalCount += 1\n",
        "                classCount += 1\n",
        "\n",
        "    #Remove the unused entries of X and Y\n",
        "    print(\"Total number of samples\",globalCount)\n",
        "    X = X[:globalCount,:]\n",
        "    Y = Y[:globalCount,:]\n",
        "\n",
        "    return X,Y,labelNames"
      ]
    },
    {
      "cell_type": "code",
      "execution_count": 141,
      "metadata": {
        "id": "A23aTrqm85i_"
      },
      "outputs": [
        {
          "name": "stdout",
          "output_type": "stream",
          "text": [
            "The chosen label  0  is  sea_horse\n",
            "It will be read in ./animals10classes/sea_horse\n",
            "The chosen label  1  is  crocodile\n",
            "It will be read in ./animals10classes/crocodile\n",
            "Total number of samples 107\n",
            "Used labels ['sea_horse', 'crocodile']\n",
            "Size of data matrix (107, 10000)\n",
            "Class labels [[0. 0. 0. 0. 0. 0. 0. 0. 0. 0. 0. 0. 0. 0. 0. 0. 0. 0. 0. 0. 0. 0. 0. 0.\n",
            "  0. 0. 0. 0. 0. 0. 0. 0. 0. 0. 0. 0. 0. 0. 0. 0. 0. 0. 0. 0. 0. 0. 0. 0.\n",
            "  0. 0. 0. 0. 0. 0. 0. 0. 0. 1. 1. 1. 1. 1. 1. 1. 1. 1. 1. 1. 1. 1. 1. 1.\n",
            "  1. 1. 1. 1. 1. 1. 1. 1. 1. 1. 1. 1. 1. 1. 1. 1. 1. 1. 1. 1. 1. 1. 1. 1.\n",
            "  1. 1. 1. 1. 1. 1. 1. 1. 1. 1. 1.]]\n"
          ]
        }
      ],
      "source": [
        "K=2\n",
        "imHeight=100\n",
        "imWidth=100\n",
        "\n",
        "#Call the buildDataset function\n",
        "X, Y, labelNames = buildDataset(IMDIR, labelNamesALL)\n",
        "\n",
        "#Check the built dataset classes\n",
        "print(\"Used labels\",labelNames)\n",
        "print(\"Size of data matrix\", X.shape)\n",
        "print(\"Class labels\", Y.T)"
      ]
    },
    {
      "cell_type": "markdown",
      "metadata": {
        "id": "qnsGttTt85jC"
      },
      "source": [
        "**c)** Split the dataset into a train (80% of samples) and a test set (20% samples) subsets.\n",
        "\n",
        "train:70\n",
        "val:15\n",
        "test:15"
      ]
    },
    {
      "cell_type": "code",
      "execution_count": 142,
      "metadata": {
        "id": "9P3ROrPE85jC"
      },
      "outputs": [
        {
          "name": "stdout",
          "output_type": "stream",
          "text": [
            "size of train dataset (74, 10000)\n",
            "size of val dataset (16, 10000)\n",
            "size of test dataset (17, 10000)\n",
            "train target vector [[1. 0. 0. 1. 1. 1. 0. 0. 1. 0. 1. 0. 0. 1. 0. 1. 0. 1. 1. 0. 0. 0. 1. 0.\n",
            "  0. 0. 0. 1. 0. 0. 1. 1. 0. 0. 1. 1. 0. 0. 0. 0. 1. 0. 0. 0. 1. 0. 0. 0.\n",
            "  1. 1. 0. 0. 1. 1. 0. 1. 0. 0. 0. 0. 0. 0. 0. 1. 0. 1. 1. 1. 0. 0. 1. 0.\n",
            "  1. 1.]]\n",
            "val target vector [[1. 1. 0. 1. 0. 1. 1. 1. 0. 1. 1. 1. 1. 0. 0. 1.]]\n",
            "test target vector [[0. 0. 0. 0. 0. 1. 1. 1. 1. 1. 0. 1. 1. 0. 1. 0. 1.]]\n"
          ]
        }
      ],
      "source": [
        "#PUT your code here, and check the obtained matrices\n",
        "\n",
        "# shuffle values randomly\n",
        "X, Y = shuffle(X, Y, random_state=42)\n",
        "\n",
        "# define rate of train data\n",
        "train_size = int(0.7 * len(X))\n",
        "val_size = int(0.15 * len(X))\n",
        "test_size = len(X) - (train_size + val_size)\n",
        "\n",
        "# split dataset\n",
        "X_train, X_val, X_test = X[: train_size], X[train_size: train_size + val_size], X[train_size + val_size: train_size + val_size + test_size]\n",
        "Y_train, Y_val, Y_test = Y[: train_size], Y[train_size: train_size + val_size], Y[train_size + val_size: train_size + val_size + test_size]\n",
        "\n",
        "print(\"size of train dataset\",X_train.shape)\n",
        "print(\"size of val dataset\",X_val.shape)\n",
        "print(\"size of test dataset\",X_test.shape)\n",
        "print(\"train target vector\",Y_train.T)\n",
        "print(\"val target vector\",Y_val.T)\n",
        "print(\"test target vector\",Y_test.T)"
      ]
    },
    {
      "cell_type": "markdown",
      "metadata": {
        "id": "Z6ABmSDq85jE"
      },
      "source": [
        "# Support Vector Machines \n",
        "\n",
        "**a) Linear SVM** Create an SVC model with a linear kernel and default values ``svmLin=SVC(kernel='linear')``.\n",
        " \n",
        "* Fit the SVC on the training dataset and make predictions on the test set. Is it necessary to normalize the features in this case?\n",
        "* Print the vector of ground truth values and the vector of predictions.\n",
        "* Compute  the number of errors made.\n",
        "* What is the value of the performance score in .score()?\n",
        "* Activate the probability ``svmLin = SVC(kernel='linear',probability=True)``. \n",
        "* Make probabilistic predictions ``svmLin.predict_proba``\n",
        "* How are these probabilities computed? (check the documentation)\n",
        "\n",
        "**a) 線形 SVM** 線形カーネルとデフォルト値 ``svmLin=SVC(kernel='linear')`` で SVC モデルを作成する。\n",
        " \n",
        "* 学習データセットにSVCをフィットし、テストセットで予測を行う。この場合、特徴量の正規化は必要でしょうか？\n",
        "* この場合、特徴量を正規化する必要があるのでしょうか？\n",
        "* エラー数を計算しなさい。\n",
        "* .score()の性能スコアの値は？\n",
        "* 確率 ``svmLin = SVC(kernel='linear',probability=True)`` をアクティブにします。\n",
        "* 確率的な予測を行う ``svmLin.predict_proba``.\n",
        "* これらの確率はどのように計算されるのでしょうか？(ドキュメントを参照)"
      ]
    },
    {
      "cell_type": "code",
      "execution_count": 143,
      "metadata": {
        "id": "iYSk578A85jE"
      },
      "outputs": [
        {
          "name": "stdout",
          "output_type": "stream",
          "text": [
            "Predicted Labels:  [0. 1. 1. 0. 1. 0. 0. 1. 0. 0. 0. 1. 1. 1. 1. 0. 1.]\n",
            "ACtual Labels:  [0. 0. 0. 0. 0. 1. 1. 1. 1. 1. 0. 1. 1. 0. 1. 0. 1.]\n",
            "Number of errors:  8\n",
            "Accuracy:  0.5294117647058824\n",
            "\n",
            "Membership Probability: \n",
            " [[0.68663126 0.31336874]\n",
            " [0.58626833 0.41373167]\n",
            " [0.56290451 0.43709549]\n",
            " [0.64254124 0.35745876]\n",
            " [0.52827699 0.47172301]\n",
            " [0.61609359 0.38390641]\n",
            " [0.59730608 0.40269392]\n",
            " [0.55515527 0.44484473]\n",
            " [0.65126758 0.34873242]\n",
            " [0.61930359 0.38069641]\n",
            " [0.64630525 0.35369475]\n",
            " [0.53056932 0.46943068]\n",
            " [0.51387221 0.48612779]\n",
            " [0.58510613 0.41489387]\n",
            " [0.55719255 0.44280745]\n",
            " [0.70939166 0.29060834]\n",
            " [0.58277986 0.41722014]]\n"
          ]
        }
      ],
      "source": [
        "# Create, train and test an svm model\n",
        "svmLin = SVC(kernel='linear')\n",
        "\n",
        "# np.ravel returns 1 dimension\n",
        "svmLin.fit(X_train, np.ravel(Y_train))\n",
        "\n",
        "# do prediction on test dataset\n",
        "Y_pred = svmLin.predict(X_test)\n",
        "\n",
        "# compare predicted result and test result\n",
        "print(\"Predicted Labels: \", Y_pred)\n",
        "print(\"ACtual Labels: \", np.ravel(Y_test))\n",
        "\n",
        "# calculate error of prediction\n",
        "error = sum(Y_pred != Y_test.ravel())\n",
        "print(\"Number of errors: \", error)\n",
        "\n",
        "print('Accuracy: ', svmLin.score(X_test, Y_test))\n",
        "print()\n",
        "\n",
        "# Create, train and test a \"probabilistic\" SVM model\n",
        "svmLin = SVC(kernel='linear', probability=True)\n",
        "\n",
        "svmLin.fit(X_train, np.ravel(Y_train))\n",
        "\n",
        "# Print predicting the membership probability of each class on the test dataset\n",
        "print(\"Membership Probability: \\n\",svmLin.predict_proba(X_test))"
      ]
    },
    {
      "cell_type": "markdown",
      "metadata": {
        "id": "5EOYy0VMZGlw"
      },
      "source": [
        "**b) Support vectors**\n",
        "* How many parameters does the model have?\n",
        "* How many hyperparameters?\n",
        "* How many support vectors?\n",
        "* Display some of the support vectors. Hint: use ``plt.imshow``\n",
        "\n",
        "b) サポートベクトル\n",
        "* モデルはいくつのパラメータを持つか？\n",
        "* ハイパーパラメータはいくつ？\n",
        "* サポート・ベクトルはいくつあるか？\n",
        "* サポートベクトルの一部を表示します。ヒント: ``plt.imshow`` を使用します。"
      ]
    },
    {
      "cell_type": "code",
      "execution_count": 144,
      "metadata": {},
      "outputs": [
        {
          "name": "stdout",
          "output_type": "stream",
          "text": [
            "The Number of Support Vector: 70\n",
            "The Number of Parameters: 71\n",
            "there are 3 hyperparameters, and sometimes more depending on these 3\n"
          ]
        },
        {
          "data": {
            "image/png": "[encoded data removed]",
            "text/plain": [
              "<Figure size 640x480 with 1 Axes>"
            ]
          },
          "metadata": {},
          "output_type": "display_data"
        }
      ],
      "source": [
        "# get the number of support vector\n",
        "num_support_vectors = svmLin.n_support_.sum()\n",
        "\n",
        "# get the number of total parameter\n",
        "total_parameters = num_support_vectors + 1\n",
        "\n",
        "print(\"The Number of Support Vector:\", num_support_vectors)\n",
        "print(\"The Number of Parameters:\", total_parameters)\n",
        "print(\"there are 3 hyperparameters, and sometimes more depending on these 3\")\n",
        "\n",
        "# define first support vector\n",
        "first_support_vector = svmLin.support_vectors_[0]\n",
        "\n",
        "# to check the having square features that fit a two-dimensional shape\n",
        "sqrt_features = int(np.sqrt(len(first_support_vector)))\n",
        "\n",
        "# use reshape to display 2D support vector\n",
        "image = np.reshape(first_support_vector, (sqrt_features, sqrt_features))\n",
        "\n",
        "# print image\n",
        "plt.imshow(image, cmap='gray')\n",
        "plt.show()\n"
      ]
    },
    {
      "cell_type": "markdown",
      "metadata": {
        "id": "NB7bLuY8-jV7"
      },
      "source": [
        "**c) Kernel SVMs.**\n",
        "* Train three additional SVC models each using one among the kernel functions:\n",
        "```\n",
        "'kernel': ['rbf','poly', 'sigmoid'],\n",
        "```\n",
        "keep all other parameters to their default value.\n",
        "* Report the number of support vectors found after fitting\n",
        "* What are the hyperparameters available in each case? \n",
        "* Report the number of errors and the accuracy for each model\n",
        "\n",
        "**c) カーネル SVMs.**.\n",
        "* カーネル関数の1つを用いて、それぞれ3つのSVCモデルを学習する：\n",
        "```\n",
        "'kernel'： 'kernel': ['rbf', 'poly', 'sigmoid']、\n",
        "```\n",
        "その他のパラメータはデフォルト値のままとする。\n",
        "* フィット後に見つかったサポートベクトルの数を報告する。\n",
        "* 各ケースで利用可能なハイパーパラメータは？\n",
        "* 各モデルのエラー数と精度を報告する。"
      ]
    },
    {
      "cell_type": "code",
      "execution_count": 145,
      "metadata": {
        "id": "7Rit1LUS7HIg"
      },
      "outputs": [
        {
          "name": "stdout",
          "output_type": "stream",
          "text": [
            "Kernel: rbf\n",
            "Number of support vectors: 69\n",
            "Hyperparameters: {'C': 1.0, 'break_ties': False, 'cache_size': 200, 'class_weight': None, 'coef0': 0.0, 'decision_function_shape': 'ovr', 'degree': 3, 'gamma': 'scale', 'kernel': 'rbf', 'max_iter': -1, 'probability': False, 'random_state': None, 'shrinking': True, 'tol': 0.001, 'verbose': False}\n",
            "Number of errors: 5\n",
            "Accuracy: 0.7058823529411765\n",
            "\n",
            "Kernel: poly\n",
            "Number of support vectors: 65\n",
            "Hyperparameters: {'C': 1.0, 'break_ties': False, 'cache_size': 200, 'class_weight': None, 'coef0': 0.0, 'decision_function_shape': 'ovr', 'degree': 3, 'gamma': 'scale', 'kernel': 'poly', 'max_iter': -1, 'probability': False, 'random_state': None, 'shrinking': True, 'tol': 0.001, 'verbose': False}\n",
            "Number of errors: 7\n",
            "Accuracy: 0.5882352941176471\n",
            "\n",
            "Kernel: sigmoid\n",
            "Number of support vectors: 54\n",
            "Hyperparameters: {'C': 1.0, 'break_ties': False, 'cache_size': 200, 'class_weight': None, 'coef0': 0.0, 'decision_function_shape': 'ovr', 'degree': 3, 'gamma': 'scale', 'kernel': 'sigmoid', 'max_iter': -1, 'probability': False, 'random_state': None, 'shrinking': True, 'tol': 0.001, 'verbose': False}\n",
            "Number of errors: 9\n",
            "Accuracy: 0.47058823529411764\n",
            "\n"
          ]
        }
      ],
      "source": [
        "# Train three additional SVC models each using one among the kernel functions\n",
        "kernels = ['rbf', 'poly', 'sigmoid']\n",
        "for kernel in kernels:\n",
        "    svm = SVC(kernel=kernel)\n",
        "    svm.fit(X_train, np.ravel(Y_train))\n",
        "    Y_pred = svm.predict(X_test)\n",
        "    error = sum(Y_pred != Y_test.ravel())\n",
        "    print(f\"Kernel: {kernel}\")\n",
        "    print(f\"Number of support vectors: {svm.n_support_.sum()}\")\n",
        "    print(f\"Hyperparameters: {svm.get_params()}\")\n",
        "    print(f\"Number of errors: {error}\")\n",
        "    print(f\"Accuracy: {svm.score(X_test, Y_test)}\")\n",
        "    print()\n"
      ]
    },
    {
      "cell_type": "markdown",
      "metadata": {
        "id": "3Q6m2JkWkdT5"
      },
      "source": [
        "**d)Hyperparameter tuning** \n",
        "Tune the hyperparameters of both the linear and the non-linear SVMs using the validation set. Alternatively use the ``GridSearchCV`` functionality from sklearn\n",
        "\n",
        "**d)ハイパーパラメータのチューニング**。\n",
        "検証セットを用いて線形SVMと非線形SVMのハイパーパラメータをチューニングする。あるいは、sklearn の ``GridSearchCV`` 機能を使用する。"
      ]
    },
    {
      "cell_type": "code",
      "execution_count": 153,
      "metadata": {
        "id": "vip_7pbnkgiG"
      },
      "outputs": [
        {
          "name": "stdout",
          "output_type": "stream",
          "text": [
            "Best Parameters: {'C': 10, 'gamma': 0.001, 'kernel': 'rbf'}\n",
            "Validation Score: 0.625\n"
          ]
        }
      ],
      "source": [
        "# set the range of the hyperparameters using tuning\n",
        "param_grid = {\n",
        "    'C': [0.1, 1, 10, 100], # normalization parameters\n",
        "    'kernel': ['rbf', 'linear', 'poly', 'sigmoid'], # kind of kernels\n",
        "    'gamma': [1, 0.1, 0.01, 0.001] # kernel parameter of rbf\n",
        "}\n",
        "\n",
        "# setting of grid search\n",
        "grid_search = GridSearchCV(svmLin, param_grid, refit=True, verbose=0, cv=3) # if I want to show the process I should change value of verbose\n",
        "\n",
        "# implement grid search in train data\n",
        "grid_search.fit(X_train, np.ravel(Y_train))\n",
        "\n",
        "# print the most suitable parameter\n",
        "print(f\"Best Parameters: {grid_search.best_params_}\")\n",
        "\n",
        "# get the trained model which is using a suitable parameter\n",
        "best_svc = grid_search.best_estimator_\n",
        "\n",
        "# evaluate the ability using validation data set\n",
        "val_score = best_svc.score(X_val, Y_val)\n",
        "print(f\"Validation Score: {val_score}\")"
      ]
    },
    {
      "cell_type": "markdown",
      "metadata": {
        "id": "r2pD7gcW85jF"
      },
      "source": [
        "## 2. PERFORMANCE MEASURES\n",
        "**a) Fill in the function bellow to computing different evaluation measures and give a performance report**\n",
        "Look at the formulas and definitions in https://en.wikipedia.org/wiki/Evaluation_measures_(information_retrieval)\n",
        "\n",
        "Start by computing the confusion matrix values TP, TN, FP, FN\n",
        "\n",
        "You can use the code bellow or use your own\n",
        "\n",
        "**Hint:** Add a numerical zero eps to the denominators to prevent dividing by zero\n",
        "\n",
        "Compare your results vs the in-built sklearn measures:\n",
        "```from sklearn.metrics import classification_report```"
      ]
    },
    {
      "cell_type": "code",
      "execution_count": 147,
      "metadata": {
        "id": "Ss0btkVw85jG"
      },
      "outputs": [
        {
          "ename": "SyntaxError",
          "evalue": "invalid syntax (3485465624.py, line 10)",
          "output_type": "error",
          "traceback": [
            "\u001b[0;36m  Cell \u001b[0;32mIn[147], line 10\u001b[0;36m\u001b[0m\n\u001b[0;31m    TP =\u001b[0m\n\u001b[0m         ^\u001b[0m\n\u001b[0;31mSyntaxError\u001b[0m\u001b[0;31m:\u001b[0m invalid syntax\n"
          ]
        }
      ],
      "source": [
        "# Functions to compute the errors between prediction and ground truth \n",
        "\n",
        "def compute_measures(Y_gt,Y_pred, positiveClass=1): #Y_gt = ground truth\n",
        "    measures = dict()\n",
        "    Y_len = len(Y_gt)\n",
        "    \n",
        "    eps = 1e-12\n",
        "    \n",
        "    # True positives TP\n",
        "    TP = \n",
        "        \n",
        "    # True negatives TN\n",
        "    TN = \n",
        "    \n",
        "    # False positives FP\n",
        "    FP = \n",
        "        \n",
        "    # False negatives FN\n",
        "    FN = \n",
        "\n",
        "    print('TP ', TP, 'TN ', TN, 'FP', FP, 'FN', FN, 'Total', TP+TN+FP+FN)\n",
        "    measures['TP'] = TP\n",
        "    measures['TN'] = TN\n",
        "    measures['FP'] = FP\n",
        "    measures['FN'] = FN\n",
        "    \n",
        "    \n",
        "    # Accuracy\n",
        "    measures['accuracy'] = \n",
        "    \n",
        "    # Precision\n",
        "    measures['precision'] = \n",
        "        \n",
        "    # Specificity\n",
        "    measures['specificity']= \n",
        "    \n",
        "    # Recall\n",
        "    measures['recall'] = \n",
        "    \n",
        "    # F-measure\n",
        "    measures['f1'] = \n",
        "    \n",
        "    # Negative Predictive Value\n",
        "    measures['npv'] = \n",
        "    \n",
        "    # False Predictive Value\n",
        "    measures['fpr'] = \n",
        "    \n",
        "    print('Accuracy ', measures['accuracy'], '\\n',\n",
        "          'Precision', measures['precision'], '\\n',\n",
        "          'Recall', measures['recall'], '\\n',\n",
        "          'Specificity ', measures['specificity'], '\\n',\n",
        "          'F-measure', measures['f1'], '\\n',\n",
        "          'NPV', measures['npv'],'\\n',\n",
        "          'FPV', measures['fpr'],'\\n')\n",
        "    \n",
        "    return measures\n",
        "\n",
        "\n"
      ]
    },
    {
      "cell_type": "markdown",
      "metadata": {
        "id": "eXMqcNVOG1yn"
      },
      "source": [
        "**b) ROC curves** \n",
        "- Plot the ROC curves of all the trained svm models (with different kernels including linear) before and after the hyperparameter tuning. Comment the results\n",
        "- Compare the roc curves of the best obtained models for each kernel between. Also add a curve for a  logistic regression model. \n",
        "\n",
        "You might use your own thresholding function or use the ``roc_curve`` functionality from scikit learn\n",
        "\n",
        "Hint: To threshold we need to make probabilistic predictions"
      ]
    },
    {
      "cell_type": "code",
      "execution_count": null,
      "metadata": {
        "id": "OK7mXCQJopRs"
      },
      "outputs": [],
      "source": [
        "# Logistic Regression"
      ]
    },
    {
      "cell_type": "code",
      "execution_count": null,
      "metadata": {
        "id": "n7SkVO85oyh_"
      },
      "outputs": [],
      "source": [
        "# plot no skill roc curve\n",
        "plt.plot([0, 1], [0, 1], linestyle='--', label='No Skill')\n",
        "\n",
        "# calculate roc curve for logistic regression\n",
        "fpr, tpr, _ = roc_curve(Y_test, Y_pred_logreg_probas[:,1])\n",
        "plt.plot(fpr, tpr, marker='.', label='Logistic')\n",
        "\n",
        "# axis labels\n",
        "plt.xlabel('False Positive Rate')\n",
        "plt.ylabel('True Positive Rate')\n",
        "\n",
        "# show the legend\n",
        "plt.legend()\n",
        "\n",
        "# show the plot\n",
        "plt.show()\n",
        "\n"
      ]
    },
    {
      "cell_type": "markdown",
      "metadata": {
        "id": "50WjtVRQ85jK"
      },
      "source": [
        "**c) Qualitative Results** Using your best model, show some of the test images and write on the title the predictions vs the ground truth labels "
      ]
    },
    {
      "cell_type": "code",
      "execution_count": null,
      "metadata": {
        "id": "U_xba2ji85jL",
        "scrolled": true
      },
      "outputs": [],
      "source": [
        "# Show some results\n",
        "width=20\n",
        "height=15\n",
        "plt.rcParams['figure.figsize'] = [width, height]\n",
        "\n",
        "#Change your predictions vector here\n",
        "Y_best=Y_rbfBest\n",
        "\n",
        "fig=plt.figure()\n",
        "imCounter = 1\n",
        "for i in range(len(Y_test)):\n",
        "    image=np.reshape(X_test[i,:], (imHeight,imWidth)) \n",
        "\n",
        "    plt.subplot(5,7,imCounter)\n",
        "    plt.imshow(image,cmap='gray')\n",
        "    plt.axis('off')\n",
        "    gtLabel = labelNames[Y_test.ravel()[i].astype(int)]\n",
        "    predLabel = labelNames[Y_best.ravel()[i].astype(int)] \n",
        "    plt.title('GT: {}. \\n Pred: {}'.format(gtLabel, predLabel))\n",
        "\n",
        "    imCounter += 1\n",
        "plt.show()\n"
      ]
    }
  ],
  "metadata": {
    "anaconda-cloud": {},
    "colab": {
      "collapsed_sections": [],
      "provenance": []
    },
    "kernelspec": {
      "display_name": "artin",
      "language": "python",
      "name": "python3"
    },
    "language_info": {
      "codemirror_mode": {
        "name": "ipython",
        "version": 3
      },
      "file_extension": ".py",
      "mimetype": "text/x-python",
      "name": "python",
      "nbconvert_exporter": "python",
      "pygments_lexer": "ipython3",
      "version": "3.12.0"
    }
  },
  "nbformat": 4,
  "nbformat_minor": 0
}
