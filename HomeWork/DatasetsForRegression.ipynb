{
 "cells": [
  {
   "cell_type": "code",
   "execution_count": 2,
   "id": "eb3216e8-5051-4b1f-862f-45e02512921c",
   "metadata": {},
   "outputs": [],
   "source": [
    "import numpy as np"
   ]
  },
  {
   "cell_type": "code",
   "execution_count": 3,
   "id": "80c14a32-8789-42bb-82a5-8b07af5b549e",
   "metadata": {},
   "outputs": [],
   "source": [
    "import matplotlib.pyplot as plt"
   ]
  },
  {
   "cell_type": "code",
   "execution_count": 4,
   "id": "c993a5fe-10b9-4bd8-bb04-082a69960dfe",
   "metadata": {},
   "outputs": [],
   "source": [
    "import sklearn"
   ]
  },
  {
   "cell_type": "code",
   "execution_count": 5,
   "id": "e2318f43-25cb-44cc-a084-b58436da98d5",
   "metadata": {},
   "outputs": [],
   "source": [
    "from sklearn import datasets"
   ]
  },
  {
   "cell_type": "code",
   "execution_count": 6,
   "id": "91ee4705-3962-4aea-b1c8-94ee92099210",
   "metadata": {},
   "outputs": [],
   "source": [
    "diabetes = datasets.load_diabetes()"
   ]
  },
  {
   "cell_type": "code",
   "execution_count": 7,
   "id": "86ca35ca-1039-4c54-ac40-37ab55637082",
   "metadata": {},
   "outputs": [
    {
     "name": "stdout",
     "output_type": "stream",
     "text": [
      "The full data matrix has shape (442, 10)\n"
     ]
    }
   ],
   "source": [
    "print('The full data matrix has shape', diabetes.data.shape)"
   ]
  },
  {
   "cell_type": "code",
   "execution_count": 8,
   "id": "81d818df-1dd3-4b23-bbdc-99cf67ad8b17",
   "metadata": {},
   "outputs": [
    {
     "name": "stdout",
     "output_type": "stream",
     "text": [
      "Dimension of the feature vector ['age', 'sex', 'bmi', 'bp', 's1', 's2', 's3', 's4', 's5', 's6']\n"
     ]
    }
   ],
   "source": [
    "print('Dimension of the feature vector', diabetes.feature_names)"
   ]
  },
  {
   "cell_type": "code",
   "execution_count": 9,
   "id": "971411ef-3d17-41d3-a56b-b21410c1ef6e",
   "metadata": {},
   "outputs": [
    {
     "name": "stdout",
     "output_type": "stream",
     "text": [
      "Dimension of the target value (442,)\n"
     ]
    }
   ],
   "source": [
    "print('Dimension of the target value', diabetes.target.shape)"
   ]
  },
  {
   "cell_type": "code",
   "execution_count": 10,
   "id": "27df2126-5897-4dd1-bc6a-49d6b1be7afd",
   "metadata": {},
   "outputs": [],
   "source": [
    "count=1"
   ]
  },
  {
   "cell_type": "code",
   "execution_count": 11,
   "id": "b2f86050-a77c-4e3f-aed9-6d563714847a",
   "metadata": {},
   "outputs": [
    {
     "data": {
      "text/plain": [
       "<Figure size 1200x800 with 0 Axes>"
      ]
     },
     "metadata": {},
     "output_type": "display_data"
    }
   ],
   "source": [
    "fig=plt.figure(figsize=(15, 10), dpi=80)"
   ]
  },
  {
   "cell_type": "code",
   "execution_count": 12,
   "id": "d2469669-7819-42aa-afd2-3fece5604ac4",
   "metadata": {},
   "outputs": [
    {
     "data": {
      "image/png": "[encoded data removed]",
      "text/plain": [
       "<Figure size 640x480 with 10 Axes>"
      ]
     },
     "metadata": {},
     "output_type": "display_data"
    }
   ],
   "source": [
    "for i in range(diabetes.data.shape[1]):\n",
    "    plt.subplot(2,5, count)\n",
    "    plt.hist(diabetes.data[:, i], bins=30)\n",
    "    plt.title(diabetes.feature_names[i])\n",
    "    count+=1\n",
    "\n",
    "plt.subplots_adjust(hspace=0.5, wspace=0.5)  # サブプロット間の間隔を調整\n",
    "fig.tight_layout(pad=0.4)\n",
    "plt.show()"
   ]
  },
  {
   "cell_type": "code",
   "execution_count": 13,
   "id": "f097d308-7c3d-43db-8ae9-042c2c26bab0",
   "metadata": {},
   "outputs": [],
   "source": [
    "X = diabetes.data[:, np.newaxis, 2]\n",
    "# X = diabetes.data[:, 2:3]"
   ]
  },
  {
   "cell_type": "markdown",
   "id": "9e3125b6",
   "metadata": {},
   "source": [
    "### X = diabetes.data[:, np.newaxis, 2]:\n",
    "- このコードは、データセットから3番目の特徴量（インデックスは2）を取り出し、それを X に割り当てています。\n",
    "- np.newaxis は、選択されたデータに新しい次元を追加します。\n",
    "    - これにより、単一の特徴量を持つデータが2次元配列として形成されます（例えば、(442,)から(442, 1)へ変換されます）。\n",
    "- これは、scikit-learnの多くのモデルが特徴量の配列として2次元配列を期待するために必要です。\n",
    "### X = diabetes.data[:, 2:3]:\n",
    "- このコードも同じ特徴量（BMI）を選択していますが、np.newaxis を使用する代わりにスライスを使っています。\n",
    "- 2:3 はインデックス2から3未満までの要素を取り出し（実際にはインデックス2のみ）、結果として2次元配列を作成します。\n",
    "- こちらも結果は X に割り当てられます。\n"
   ]
  },
  {
   "cell_type": "code",
   "execution_count": 14,
   "id": "763e7d51-ba5a-47b0-bd87-f754c0b0f943",
   "metadata": {},
   "outputs": [],
   "source": [
    "y = diabetes.target"
   ]
  },
  {
   "cell_type": "code",
   "execution_count": 15,
   "id": "654bde24-c3bc-42ef-afdb-17ec51af18a8",
   "metadata": {},
   "outputs": [
    {
     "name": "stdout",
     "output_type": "stream",
     "text": [
      "Dimension of the feature matrix (442, 1)\n"
     ]
    }
   ],
   "source": [
    "print('Dimension of the feature matrix', X.shape)"
   ]
  },
  {
   "cell_type": "code",
   "execution_count": 16,
   "id": "d5cb82aa-a917-4489-a606-bb058624567d",
   "metadata": {},
   "outputs": [
    {
     "name": "stdout",
     "output_type": "stream",
     "text": [
      "Dimension of the target value (442,)\n"
     ]
    }
   ],
   "source": [
    "print('Dimension of the target value', y.shape)"
   ]
  },
  {
   "cell_type": "code",
   "execution_count": 17,
   "id": "49728b0c-2881-48dd-92c5-299444c8de0a",
   "metadata": {},
   "outputs": [],
   "source": [
    "def naive_split_data(X, y, split_index):\n",
    "    X_train = X[:-split_index]\n",
    "    X_test = X[-split_index:]\n",
    "    y_train = y[:-split_index]\n",
    "    y_test = y[-split_index:]\n",
    "    return X_train, X_test, y_train, y_test"
   ]
  },
  {
   "cell_type": "markdown",
   "id": "8457f4fb",
   "metadata": {},
   "source": [
    "- 引数:\n",
    "    - X: 特徴データ\n",
    "    - y: ターゲットデータ（目的変数）\n",
    "    - split_index: どのインデックスでデータを分割するか\n",
    "- 処理内容:\n",
    "    - X と y はそれぞれ指定されたインデックスで訓練データとテストデータに分割されます。\n",
    "- 戻り値:\n",
    "    - 訓練データおよびテストデータの組 (X_train, X_test, y_train, y_test)"
   ]
  },
  {
   "cell_type": "code",
   "execution_count": 18,
   "id": "98caa6b3",
   "metadata": {},
   "outputs": [],
   "source": [
    "def split_data(data, target, test_ratio):\n",
    "    shuffled_indices = np.random.permutation(len(data))\n",
    "    test_set_size = int(len(data) * test_ratio)\n",
    "    test_indices = shuffled_indices[:test_set_size]\n",
    "    train_indices = shuffled_indices[test_set_size:]\n",
    "    return data[train_indices,:], data[test_indices,:], target[train_indices], target[test_indices]"
   ]
  },
  {
   "cell_type": "markdown",
   "id": "9d78bb86",
   "metadata": {},
   "source": [
    "- 引数\n",
    "    - data: 特徴データ\n",
    "    - target: ターゲットデータ\n",
    "    - test_ratio: テストデータの比率 (0から1の間の実数)\n",
    "- 処理内容:\n",
    "    - データをランダムにシャッフルします。\n",
    "    - シャッフルしたデータを指定された比率で訓練データとテストデータに分割します。\n",
    "- 戻り値:\n",
    "    - 訓練データおよびテストデータの組"
   ]
  },
  {
   "cell_type": "code",
   "execution_count": 19,
   "id": "4001e45c",
   "metadata": {},
   "outputs": [],
   "source": [
    "X_train, X_test, y_train, y_test = naive_split_data(X, y, 8)"
   ]
  },
  {
   "cell_type": "markdown",
   "id": "82e18ead",
   "metadata": {},
   "source": [
    "- 44番目のインデックスでデータを分割しています。"
   ]
  },
  {
   "cell_type": "code",
   "execution_count": 20,
   "id": "3420b8e4",
   "metadata": {},
   "outputs": [
    {
     "name": "stdout",
     "output_type": "stream",
     "text": [
      "Naive Split\n",
      "X train (434, 1)\n",
      "X test (8, 1)\n",
      "y train (434,)\n",
      "y test (8,)\n"
     ]
    }
   ],
   "source": [
    "print('Naive Split')\n",
    "print('X train', X_train.shape)\n",
    "print('X test',X_test.shape)\n",
    "print('y train',y_train.shape)\n",
    "print('y test',y_test.shape)"
   ]
  },
  {
   "cell_type": "code",
   "execution_count": 21,
   "id": "91806d5f",
   "metadata": {},
   "outputs": [],
   "source": [
    "X_train, X_test, y_train, y_test = split_data(X,y,0.1)"
   ]
  },
  {
   "cell_type": "markdown",
   "id": "89978f63",
   "metadata": {},
   "source": [
    "- 全データの10%をテストデータとしてランダムに選び、残りの90%を訓練データとしています。"
   ]
  },
  {
   "cell_type": "code",
   "execution_count": 22,
   "id": "b76f48a2",
   "metadata": {},
   "outputs": [
    {
     "name": "stdout",
     "output_type": "stream",
     "text": [
      "Less Naive Split\n",
      "X train (398, 1)\n",
      "X test (44, 1)\n",
      "y train (398,)\n",
      "y test (44,)\n"
     ]
    }
   ],
   "source": [
    "print('Less Naive Split')\n",
    "#check the resultant sizes\n",
    "print('X train', X_train.shape)\n",
    "print('X test',X_test.shape)\n",
    "print('y train',y_train.shape)\n",
    "print('y test',y_test.shape)"
   ]
  },
  {
   "cell_type": "code",
   "execution_count": 23,
   "id": "167eb57d",
   "metadata": {},
   "outputs": [],
   "source": [
    "from sklearn import linear_model\n",
    "regr = linear_model.LinearRegression()"
   ]
  },
  {
   "cell_type": "code",
   "execution_count": 24,
   "id": "31b093c4",
   "metadata": {},
   "outputs": [
    {
     "data": {
      "text/html": [
       "<style>#sk-container-id-1 {color: black;}#sk-container-id-1 pre{padding: 0;}#sk-container-id-1 div.sk-toggleable {background-color: white;}#sk-container-id-1 label.sk-toggleable__label {cursor: pointer;display: block;width: 100%;margin-bottom: 0;padding: 0.3em;box-sizing: border-box;text-align: center;}#sk-container-id-1 label.sk-toggleable__label-arrow:before {content: \"▸\";float: left;margin-right: 0.25em;color: #696969;}#sk-container-id-1 label.sk-toggleable__label-arrow:hover:before {color: black;}#sk-container-id-1 div.sk-estimator:hover label.sk-toggleable__label-arrow:before {color: black;}#sk-container-id-1 div.sk-toggleable__content {max-height: 0;max-width: 0;overflow: hidden;text-align: left;background-color: #f0f8ff;}#sk-container-id-1 div.sk-toggleable__content pre {margin: 0.2em;color: black;border-radius: 0.25em;background-color: #f0f8ff;}#sk-container-id-1 input.sk-toggleable__control:checked~div.sk-toggleable__content {max-height: 200px;max-width: 100%;overflow: auto;}#sk-container-id-1 input.sk-toggleable__control:checked~label.sk-toggleable__label-arrow:before {content: \"▾\";}#sk-container-id-1 div.sk-estimator input.sk-toggleable__control:checked~label.sk-toggleable__label {background-color: #d4ebff;}#sk-container-id-1 div.sk-label input.sk-toggleable__control:checked~label.sk-toggleable__label {background-color: #d4ebff;}#sk-container-id-1 input.sk-hidden--visually {border: 0;clip: rect(1px 1px 1px 1px);clip: rect(1px, 1px, 1px, 1px);height: 1px;margin: -1px;overflow: hidden;padding: 0;position: absolute;width: 1px;}#sk-container-id-1 div.sk-estimator {font-family: monospace;background-color: #f0f8ff;border: 1px dotted black;border-radius: 0.25em;box-sizing: border-box;margin-bottom: 0.5em;}#sk-container-id-1 div.sk-estimator:hover {background-color: #d4ebff;}#sk-container-id-1 div.sk-parallel-item::after {content: \"\";width: 100%;border-bottom: 1px solid gray;flex-grow: 1;}#sk-container-id-1 div.sk-label:hover label.sk-toggleable__label {background-color: #d4ebff;}#sk-container-id-1 div.sk-serial::before {content: \"\";position: absolute;border-left: 1px solid gray;box-sizing: border-box;top: 0;bottom: 0;left: 50%;z-index: 0;}#sk-container-id-1 div.sk-serial {display: flex;flex-direction: column;align-items: center;background-color: white;padding-right: 0.2em;padding-left: 0.2em;position: relative;}#sk-container-id-1 div.sk-item {position: relative;z-index: 1;}#sk-container-id-1 div.sk-parallel {display: flex;align-items: stretch;justify-content: center;background-color: white;position: relative;}#sk-container-id-1 div.sk-item::before, #sk-container-id-1 div.sk-parallel-item::before {content: \"\";position: absolute;border-left: 1px solid gray;box-sizing: border-box;top: 0;bottom: 0;left: 50%;z-index: -1;}#sk-container-id-1 div.sk-parallel-item {display: flex;flex-direction: column;z-index: 1;position: relative;background-color: white;}#sk-container-id-1 div.sk-parallel-item:first-child::after {align-self: flex-end;width: 50%;}#sk-container-id-1 div.sk-parallel-item:last-child::after {align-self: flex-start;width: 50%;}#sk-container-id-1 div.sk-parallel-item:only-child::after {width: 0;}#sk-container-id-1 div.sk-dashed-wrapped {border: 1px dashed gray;margin: 0 0.4em 0.5em 0.4em;box-sizing: border-box;padding-bottom: 0.4em;background-color: white;}#sk-container-id-1 div.sk-label label {font-family: monospace;font-weight: bold;display: inline-block;line-height: 1.2em;}#sk-container-id-1 div.sk-label-container {text-align: center;}#sk-container-id-1 div.sk-container {/* jupyter's `normalize.less` sets `[hidden] { display: none; }` but bootstrap.min.css set `[hidden] { display: none !important; }` so we also need the `!important` here to be able to override the default hidden behavior on the sphinx rendered scikit-learn.org. See: https://github.com/scikit-learn/scikit-learn/issues/21755 */display: inline-block !important;position: relative;}#sk-container-id-1 div.sk-text-repr-fallback {display: none;}</style><div id=\"sk-container-id-1\" class=\"sk-top-container\"><div class=\"sk-text-repr-fallback\"><pre>LinearRegression()</pre><b>In a Jupyter environment, please rerun this cell to show the HTML representation or trust the notebook. <br />On GitHub, the HTML representation is unable to render, please try loading this page with nbviewer.org.</b></div><div class=\"sk-container\" hidden><div class=\"sk-item\"><div class=\"sk-estimator sk-toggleable\"><input class=\"sk-toggleable__control sk-hidden--visually\" id=\"sk-estimator-id-1\" type=\"checkbox\" checked><label for=\"sk-estimator-id-1\" class=\"sk-toggleable__label sk-toggleable__label-arrow\">LinearRegression</label><div class=\"sk-toggleable__content\"><pre>LinearRegression()</pre></div></div></div></div></div>"
      ],
      "text/plain": [
       "LinearRegression()"
      ]
     },
     "execution_count": 24,
     "metadata": {},
     "output_type": "execute_result"
    }
   ],
   "source": [
    "regr.fit(X_train, y_train)"
   ]
  },
  {
   "cell_type": "code",
   "execution_count": 25,
   "id": "d965d454",
   "metadata": {},
   "outputs": [
    {
     "name": "stdout",
     "output_type": "stream",
     "text": [
      "Coefficients: \n",
      " [927.93248495]\n",
      "Intercept: \n",
      " 153.89351534145158\n"
     ]
    }
   ],
   "source": [
    "print('Coefficients: \\n', regr.coef_) # 係数\n",
    "print('Intercept: \\n', regr.intercept_) #　切片（数学）"
   ]
  },
  {
   "cell_type": "code",
   "execution_count": 26,
   "id": "a93d77e6",
   "metadata": {},
   "outputs": [],
   "source": [
    "y_pred = regr.predict(X_test)"
   ]
  },
  {
   "cell_type": "code",
   "execution_count": 27,
   "id": "3df2cb3b",
   "metadata": {
    "scrolled": false
   },
   "outputs": [
    {
     "name": "stdout",
     "output_type": "stream",
     "text": [
      "Mean squared error: 3277.29\n",
      "Variance score: 0.38\n"
     ]
    }
   ],
   "source": [
    "from sklearn.metrics import mean_squared_error, r2_score\n",
    "print(\"Mean squared error: %.2f\" % mean_squared_error(y_test, y_pred))\n",
    "print('Variance score: %.2f' % r2_score(y_test, y_pred))"
   ]
  },
  {
   "cell_type": "markdown",
   "id": "a056cee7",
   "metadata": {},
   "source": [
    "### Mean squared error : 平均二乗誤差（Mean Squared Error, MSE）\n",
    "これは予測値と実際の値との差（誤差）を二乗したものの平均を表します。MSEは、モデルの予測がどれだけ実際のデータポイントから離れているかを数値化します。値が低いほど、モデルの予測が実際のデータに近いことを意味し、良いモデルの指標とされます。\n",
    "\n",
    "### Variance score : 決定係数（R²スコアまたはR-squared）\n",
    "これは回帰モデルがデータのバリエーションをどれだけ説明できているかを測る指標で、0から1の間の値を取ります。1に近いほどモデルがデータによくフィットしていることを意味し、0に近いほどフィットしていないことを意味します。R²スコアは、モデルがデータの全バリエーションに対して、どれだけの割合を説明しているかを示します。"
   ]
  },
  {
   "cell_type": "code",
   "execution_count": 28,
   "id": "15f24370",
   "metadata": {
    "scrolled": false
   },
   "outputs": [
    {
     "data": {
      "image/png": "[encoded data removed]",
      "text/plain": [
       "<Figure size 640x480 with 1 Axes>"
      ]
     },
     "metadata": {},
     "output_type": "display_data"
    }
   ],
   "source": [
    "plt.scatter(X_train, y_train, color='blue')\n",
    "plt.scatter(X_test, y_test, color='red')\n",
    "plt.plot(X_test, y_pred, color='green', linewidth=3)\n",
    "plt.xlabel('bmi')\n",
    "plt.ylabel('diabetes progression')\n",
    "plt.show()"
   ]
  },
  {
   "cell_type": "markdown",
   "id": "ee041c89",
   "metadata": {},
   "source": [
    "## 失敗👇"
   ]
  },
  {
   "cell_type": "code",
   "execution_count": 29,
   "id": "76171561",
   "metadata": {},
   "outputs": [],
   "source": [
    "# # step1 データセットを訓練データとテストデータに分割するコードを作成\n",
    "\n",
    "# from sklearn.model_selection import train_test_split"
   ]
  },
  {
   "cell_type": "code",
   "execution_count": 30,
   "id": "9a314072",
   "metadata": {},
   "outputs": [],
   "source": [
    "# X = diabetes.data   # 特徴量\n",
    "# y = diabetes.target # ターゲット変数"
   ]
  },
  {
   "cell_type": "code",
   "execution_count": 31,
   "id": "6d5b221a",
   "metadata": {},
   "outputs": [],
   "source": [
    "# X_train, X_test, y_train, y_test = train_test_split(X, y, test_size=0.2, random_state=42)"
   ]
  },
  {
   "cell_type": "markdown",
   "id": "0964e61f",
   "metadata": {},
   "source": [
    "### test_size\n",
    "- テストデータの数は、データを分割する際に `train_test_split` 関数に設定された `test_size` パラメータによって決定されます。\n",
    "- `test_size` は 0.2 に設定されていました。\n",
    "    - これは、利用可能なデータセットの20%をテストセットとして使用することを意味します。\n",
    "\n",
    "### random_state\n",
    "- `train_test_split` 関数の `random_state` パラメータは、分割時のデータのシャッフルを制御するために使われます。このパラメータに特定の整数値を設定することで、関数の呼び出し結果の再現性を保証することができます。\n",
    "\n",
    "- 具体的には、`random_state` に同じ値を設定すると、関数を複数回実行しても、毎回同じ方法でデータがシャッフルされ、同じトレーニングセットとテストセットが生成されます。これにより、異なる実験やモデルトレーニングで一貫した結果を得ることが可能になり、実験の比較が公平になります。\n",
    "\n",
    "- `random_state` を設定しない場合、`train_test_split` は毎回異なるランダムシードを使用してデータをシャッフルするため、結果の再現性は保証されません。\n",
    "\n",
    "- `random_state=42` と設定することは、機械学習のコミュニティで一般的な慣習であり、特に理由がない限り42という数字を使うことがよくあります。これは、ランダムシードとして特に何か優れているわけではなく、単に「宇宙と人生の究極の疑問の答え」として知られる数字（ダグラス・アダムスの『銀河ヒッチハイク・ガイド』におけるジョーク）を使っているだけです。"
   ]
  },
  {
   "cell_type": "code",
   "execution_count": 32,
   "id": "1d529698",
   "metadata": {},
   "outputs": [],
   "source": [
    "# (X_train.shape, X_test.shape, y_train.shape, y_test.shape)"
   ]
  },
  {
   "cell_type": "code",
   "execution_count": 33,
   "id": "ab1dadda",
   "metadata": {},
   "outputs": [],
   "source": [
    "# X_train_subset = X_train[:20, :1]\n",
    "# y_train_subset = y_train[:20]"
   ]
  },
  {
   "cell_type": "code",
   "execution_count": 34,
   "id": "6db93f9d",
   "metadata": {},
   "outputs": [],
   "source": [
    "# regr.fit(X_train_subset, y_train_subset)"
   ]
  },
  {
   "cell_type": "code",
   "execution_count": 35,
   "id": "e517c8b5",
   "metadata": {},
   "outputs": [],
   "source": [
    "# X_test_subset = X_test[:, :1]\n",
    "# test_score = regr.score(X_test_subset, y_test)"
   ]
  },
  {
   "cell_type": "code",
   "execution_count": 36,
   "id": "07bb5da0",
   "metadata": {},
   "outputs": [],
   "source": [
    "# test_score"
   ]
  },
  {
   "cell_type": "code",
   "execution_count": 37,
   "id": "0fcf2d52",
   "metadata": {},
   "outputs": [],
   "source": [
    "# # 訓練データセットのサイズを段階的に増やしながらモデルのパフォーマンスを記録する\n",
    "# train_sizes = np.linspace(1, X_train.shape[0], 20).astype(int)  # 訓練データのサイズの配列\n",
    "# test_scores = []  # テストスコアを記録するリスト"
   ]
  },
  {
   "cell_type": "code",
   "execution_count": 38,
   "id": "9a872cf3",
   "metadata": {},
   "outputs": [],
   "source": [
    "# ## 訓練データのサイズごとにモデルをトレーニングし、テストスコアを記録\n",
    "# for size in train_sizes:\n",
    "#     # 訓練データのサブセット\n",
    "#     X_train_subset = X_train[:size, :1]  # 特徴量の選択\n",
    "#                                            # bmiを選択する場合は, [:size, 2:3]と記述する\n",
    "#     y_train_subset = y_train[:size]\n",
    "    \n",
    "#     # モデルをトレーニング\n",
    "#     regr.fit(X_train_subset, y_train_subset)\n",
    "    \n",
    "#     # テストスコアを計算してリストに追加\n",
    "#     test_scores.append(regr.score(X_test_subset, y_test))\n",
    "\n",
    "# # 訓練データのサイズと対応するテストスコア\n",
    "# train_sizes, test_scores"
   ]
  },
  {
   "cell_type": "code",
   "execution_count": 39,
   "id": "2f576f1c",
   "metadata": {},
   "outputs": [],
   "source": [
    "# plt.figure(figsize=(10, 6))\n",
    "# plt.plot(train_sizes, test_scores, marker='o', linestyle='-', color='green')"
   ]
  }
 ],
 "metadata": {
  "kernelspec": {
   "display_name": "Python 3 (ipykernel)",
   "language": "python",
   "name": "python3"
  },
  "language_info": {
   "codemirror_mode": {
    "name": "ipython",
    "version": 3
   },
   "file_extension": ".py",
   "mimetype": "text/x-python",
   "name": "python",
   "nbconvert_exporter": "python",
   "pygments_lexer": "ipython3",
   "version": "3.12.0"
  }
 },
 "nbformat": 4,
 "nbformat_minor": 5
}
