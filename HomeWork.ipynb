{
 "cells": [
  {
   "cell_type": "code",
   "execution_count": 1,
   "id": "a14514cf-04da-440c-9394-5587452d9aad",
   "metadata": {},
   "outputs": [
    {
     "name": "stdout",
     "output_type": "stream",
     "text": [
      "Hello! ARTIN!\n"
     ]
    }
   ],
   "source": [
    "print(\"Hello! ARTIN!\")"
   ]
  },
  {
   "cell_type": "code",
   "execution_count": 5,
   "id": "eb3216e8-5051-4b1f-862f-45e02512921c",
   "metadata": {},
   "outputs": [],
   "source": [
    "import numpy as np"
   ]
  },
  {
   "cell_type": "code",
   "execution_count": 6,
   "id": "80c14a32-8789-42bb-82a5-8b07af5b549e",
   "metadata": {},
   "outputs": [],
   "source": [
    "import matplotlib.pyplot as plt"
   ]
  },
  {
   "cell_type": "code",
   "execution_count": 10,
   "id": "c993a5fe-10b9-4bd8-bb04-082a69960dfe",
   "metadata": {},
   "outputs": [],
   "source": [
    "import sklearn"
   ]
  },
  {
   "cell_type": "code",
   "execution_count": 11,
   "id": "e2318f43-25cb-44cc-a084-b58436da98d5",
   "metadata": {},
   "outputs": [],
   "source": [
    "from sklearn import datasets"
   ]
  },
  {
   "cell_type": "code",
   "execution_count": 13,
   "id": "91ee4705-3962-4aea-b1c8-94ee92099210",
   "metadata": {},
   "outputs": [],
   "source": [
    "diabetes = datasets.load_diabetes()"
   ]
  },
  {
   "cell_type": "code",
   "execution_count": 14,
   "id": "86ca35ca-1039-4c54-ac40-37ab55637082",
   "metadata": {},
   "outputs": [
    {
     "name": "stdout",
     "output_type": "stream",
     "text": [
      "The full data matrix has shape (442, 10)\n"
     ]
    }
   ],
   "source": [
    "print('The full data matrix has shape', diabetes.data.shape)"
   ]
  },
  {
   "cell_type": "code",
   "execution_count": 15,
   "id": "81d818df-1dd3-4b23-bbdc-99cf67ad8b17",
   "metadata": {},
   "outputs": [
    {
     "name": "stdout",
     "output_type": "stream",
     "text": [
      "Dimension of the feature vector ['age', 'sex', 'bmi', 'bp', 's1', 's2', 's3', 's4', 's5', 's6']\n"
     ]
    }
   ],
   "source": [
    "print('Dimension of the feature vector', diabetes.feature_names)"
   ]
  },
  {
   "cell_type": "code",
   "execution_count": 17,
   "id": "971411ef-3d17-41d3-a56b-b21410c1ef6e",
   "metadata": {},
   "outputs": [
    {
     "name": "stdout",
     "output_type": "stream",
     "text": [
      "Dimension of the target value (442,)\n"
     ]
    }
   ],
   "source": [
    "print('Dimension of the target value', diabetes.target.shape)"
   ]
  },
  {
   "cell_type": "code",
   "execution_count": null,
   "id": "27df2126-5897-4dd1-bc6a-49d6b1be7afd",
   "metadata": {},
   "outputs": [],
   "source": []
  }
 ],
 "metadata": {
  "kernelspec": {
   "display_name": "Python 3 (ipykernel)",
   "language": "python",
   "name": "python3"
  },
  "language_info": {
   "codemirror_mode": {
    "name": "ipython",
    "version": 3
   },
   "file_extension": ".py",
   "mimetype": "text/x-python",
   "name": "python",
   "nbconvert_exporter": "python",
   "pygments_lexer": "ipython3",
   "version": "3.12.0"
  }
 },
 "nbformat": 4,
 "nbformat_minor": 5
}
